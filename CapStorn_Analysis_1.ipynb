{
 "cells": [
  {
   "cell_type": "code",
   "execution_count": 1,
   "metadata": {},
   "outputs": [],
   "source": [
    "import numpy as np\n",
    "import pandas as pd\n",
    "import matplotlib.pyplot as plt\n",
    "%matplotlib inline"
   ]
  },
  {
   "cell_type": "code",
   "execution_count": 2,
   "metadata": {},
   "outputs": [
    {
     "data": {
      "text/html": [
       "<div>\n",
       "<style scoped>\n",
       "    .dataframe tbody tr th:only-of-type {\n",
       "        vertical-align: middle;\n",
       "    }\n",
       "\n",
       "    .dataframe tbody tr th {\n",
       "        vertical-align: top;\n",
       "    }\n",
       "\n",
       "    .dataframe thead th {\n",
       "        text-align: right;\n",
       "    }\n",
       "</style>\n",
       "<table border=\"1\" class=\"dataframe\">\n",
       "  <thead>\n",
       "    <tr style=\"text-align: right;\">\n",
       "      <th></th>\n",
       "      <th>Bad</th>\n",
       "      <th>badCd</th>\n",
       "      <th>ptGroupNm</th>\n",
       "      <th>qabDscr</th>\n",
       "      <th>Year</th>\n",
       "      <th>Female</th>\n",
       "      <th>Edu</th>\n",
       "      <th>Skill</th>\n",
       "      <th>Hand</th>\n",
       "      <th>NumberofYear</th>\n",
       "      <th>Married</th>\n",
       "      <th>Chiled</th>\n",
       "      <th>Pregnancy</th>\n",
       "      <th>CommutingTime</th>\n",
       "      <th>Payment</th>\n",
       "      <th>Height</th>\n",
       "      <th>Weight</th>\n",
       "      <th>DutyHours</th>\n",
       "      <th>OverTimeWork</th>\n",
       "    </tr>\n",
       "  </thead>\n",
       "  <tbody>\n",
       "    <tr>\n",
       "      <th>0</th>\n",
       "      <td>1</td>\n",
       "      <td>C0112</td>\n",
       "      <td>MAIN</td>\n",
       "      <td>피복밀림</td>\n",
       "      <td>33.0</td>\n",
       "      <td>1.0</td>\n",
       "      <td>1.0</td>\n",
       "      <td>2.0</td>\n",
       "      <td>1.0</td>\n",
       "      <td>5.0</td>\n",
       "      <td>1.0</td>\n",
       "      <td>1.0</td>\n",
       "      <td>0.0</td>\n",
       "      <td>0.0</td>\n",
       "      <td>5315000.0</td>\n",
       "      <td>155.0</td>\n",
       "      <td>45.0</td>\n",
       "      <td>0.0</td>\n",
       "      <td>0.0</td>\n",
       "    </tr>\n",
       "    <tr>\n",
       "      <th>1</th>\n",
       "      <td>0</td>\n",
       "      <td>C0112</td>\n",
       "      <td>MAIN</td>\n",
       "      <td>피복밀림</td>\n",
       "      <td>36.0</td>\n",
       "      <td>1.0</td>\n",
       "      <td>1.0</td>\n",
       "      <td>2.0</td>\n",
       "      <td>1.0</td>\n",
       "      <td>5.0</td>\n",
       "      <td>1.0</td>\n",
       "      <td>1.0</td>\n",
       "      <td>0.0</td>\n",
       "      <td>0.0</td>\n",
       "      <td>4164000.0</td>\n",
       "      <td>153.0</td>\n",
       "      <td>56.0</td>\n",
       "      <td>216.0</td>\n",
       "      <td>0.0</td>\n",
       "    </tr>\n",
       "    <tr>\n",
       "      <th>2</th>\n",
       "      <td>0</td>\n",
       "      <td>C0112</td>\n",
       "      <td>MAIN</td>\n",
       "      <td>피복밀림</td>\n",
       "      <td>35.0</td>\n",
       "      <td>1.0</td>\n",
       "      <td>1.0</td>\n",
       "      <td>2.0</td>\n",
       "      <td>1.0</td>\n",
       "      <td>5.0</td>\n",
       "      <td>1.0</td>\n",
       "      <td>1.0</td>\n",
       "      <td>0.0</td>\n",
       "      <td>0.0</td>\n",
       "      <td>4821000.0</td>\n",
       "      <td>151.0</td>\n",
       "      <td>46.0</td>\n",
       "      <td>226.5</td>\n",
       "      <td>0.0</td>\n",
       "    </tr>\n",
       "    <tr>\n",
       "      <th>3</th>\n",
       "      <td>0</td>\n",
       "      <td>C0112</td>\n",
       "      <td>MAIN</td>\n",
       "      <td>피복밀림</td>\n",
       "      <td>33.0</td>\n",
       "      <td>1.0</td>\n",
       "      <td>1.0</td>\n",
       "      <td>2.0</td>\n",
       "      <td>1.0</td>\n",
       "      <td>5.0</td>\n",
       "      <td>1.0</td>\n",
       "      <td>1.0</td>\n",
       "      <td>0.0</td>\n",
       "      <td>0.0</td>\n",
       "      <td>5315000.0</td>\n",
       "      <td>155.0</td>\n",
       "      <td>45.0</td>\n",
       "      <td>0.0</td>\n",
       "      <td>0.0</td>\n",
       "    </tr>\n",
       "    <tr>\n",
       "      <th>4</th>\n",
       "      <td>0</td>\n",
       "      <td>C0112</td>\n",
       "      <td>MAIN</td>\n",
       "      <td>피복밀림</td>\n",
       "      <td>36.0</td>\n",
       "      <td>1.0</td>\n",
       "      <td>1.0</td>\n",
       "      <td>2.0</td>\n",
       "      <td>1.0</td>\n",
       "      <td>5.0</td>\n",
       "      <td>1.0</td>\n",
       "      <td>1.0</td>\n",
       "      <td>0.0</td>\n",
       "      <td>0.0</td>\n",
       "      <td>4821000.0</td>\n",
       "      <td>150.0</td>\n",
       "      <td>45.0</td>\n",
       "      <td>224.0</td>\n",
       "      <td>0.0</td>\n",
       "    </tr>\n",
       "  </tbody>\n",
       "</table>\n",
       "</div>"
      ],
      "text/plain": [
       "   Bad  badCd ptGroupNm qabDscr  Year  Female  Edu  Skill  Hand  NumberofYear  \\\n",
       "0    1  C0112      MAIN    피복밀림  33.0     1.0  1.0    2.0   1.0           5.0   \n",
       "1    0  C0112      MAIN    피복밀림  36.0     1.0  1.0    2.0   1.0           5.0   \n",
       "2    0  C0112      MAIN    피복밀림  35.0     1.0  1.0    2.0   1.0           5.0   \n",
       "3    0  C0112      MAIN    피복밀림  33.0     1.0  1.0    2.0   1.0           5.0   \n",
       "4    0  C0112      MAIN    피복밀림  36.0     1.0  1.0    2.0   1.0           5.0   \n",
       "\n",
       "   Married  Chiled  Pregnancy  CommutingTime    Payment  Height  Weight  \\\n",
       "0      1.0     1.0        0.0            0.0  5315000.0   155.0    45.0   \n",
       "1      1.0     1.0        0.0            0.0  4164000.0   153.0    56.0   \n",
       "2      1.0     1.0        0.0            0.0  4821000.0   151.0    46.0   \n",
       "3      1.0     1.0        0.0            0.0  5315000.0   155.0    45.0   \n",
       "4      1.0     1.0        0.0            0.0  4821000.0   150.0    45.0   \n",
       "\n",
       "   DutyHours  OverTimeWork  \n",
       "0        0.0           0.0  \n",
       "1      216.0           0.0  \n",
       "2      226.5           0.0  \n",
       "3        0.0           0.0  \n",
       "4      224.0           0.0  "
      ]
     },
     "execution_count": 2,
     "metadata": {},
     "output_type": "execute_result"
    }
   ],
   "source": [
    "df = pd.read_csv('./data/process_data.csv')\n",
    "df.head()"
   ]
  },
  {
   "cell_type": "code",
   "execution_count": 3,
   "metadata": {},
   "outputs": [],
   "source": [
    "del df['badCd']\n",
    "del df['ptGroupNm']\n",
    "del df['qabDscr']\n",
    "\n",
    "data = np.array(df)\n",
    "nvar = data.shape[1]\n",
    "datax = data[:,1:nvar]\n",
    "datay = data[:,0]"
   ]
  },
  {
   "cell_type": "markdown",
   "metadata": {},
   "source": [
    "## 상관계수 분석 결과"
   ]
  },
  {
   "cell_type": "code",
   "execution_count": 4,
   "metadata": {},
   "outputs": [
    {
     "name": "stderr",
     "output_type": "stream",
     "text": [
      "C:\\Users\\KimJinSeop\\Anaconda3\\lib\\site-packages\\ipykernel_launcher.py:2: FutureWarning: Method .as_matrix will be removed in a future version. Use .values instead.\n",
      "  \n"
     ]
    },
    {
     "data": {
      "image/png": "[encoded data removed]",
      "text/plain": [
       "<Figure size 1080x1440 with 256 Axes>"
      ]
     },
     "metadata": {
      "needs_background": "light"
     },
     "output_type": "display_data"
    }
   ],
   "source": [
    "axes = pd.plotting.scatter_matrix(df, figsize = (15,20), alpha = 0.5)\n",
    "corr = df.corr().as_matrix()\n",
    "for i,j in zip(*plt.np.triu_indices_from(axes, k=1)):\n",
    "    axes[i,j].annotate(\"%.3f\" %corr[i,j],(0.8, 0.8), xycoords = 'axes fraction', ha = 'center', va ='center')\n",
    "plt.show()"
   ]
  },
  {
   "cell_type": "code",
   "execution_count": 5,
   "metadata": {},
   "outputs": [],
   "source": [
    "from sklearn.model_selection import train_test_split\n",
    "train_x, test_x, train_y, test_y = train_test_split(datax, datay, test_size=0.3, random_state=500)"
   ]
  },
  {
   "cell_type": "code",
   "execution_count": 6,
   "metadata": {},
   "outputs": [],
   "source": [
    "from sklearn.preprocessing import MinMaxScaler\n",
    "scaler = MinMaxScaler()\n",
    "scaler.fit(train_x)\n",
    "train_x = scaler.transform(train_x)\n",
    "test_x = scaler.transform(test_x)"
   ]
  },
  {
   "cell_type": "markdown",
   "metadata": {},
   "source": [
    "## 분석결과 모두 사용하지 않는 경우"
   ]
  },
  {
   "cell_type": "code",
   "execution_count": 7,
   "metadata": {},
   "outputs": [],
   "source": [
    "from sklearn.naive_bayes import GaussianNB\n",
    "bayes = GaussianNB(priors=[0.59, 0.41])\n",
    "bayes.fit(train_x,train_y)\n",
    "predict = bayes.predict(test_x)"
   ]
  },
  {
   "cell_type": "code",
   "execution_count": 8,
   "metadata": {},
   "outputs": [
    {
     "name": "stdout",
     "output_type": "stream",
     "text": [
      "0.8753891050583658\n"
     ]
    }
   ],
   "source": [
    "dif = test_y - predict\n",
    "accuracy1 = 1 - (np.size(np.where(dif != 0))/np.size(test_y))\n",
    "print(accuracy1)"
   ]
  },
  {
   "cell_type": "markdown",
   "metadata": {},
   "source": [
    "## 로지스틱 회귀분석을 통한 p-Value만 고려하여 사용한 경우"
   ]
  },
  {
   "cell_type": "code",
   "execution_count": 9,
   "metadata": {},
   "outputs": [
    {
     "data": {
      "text/plain": [
       "Index(['Bad', 'Year', 'Female', 'Edu', 'Skill', 'Hand', 'NumberofYear',\n",
       "       'Married', 'Chiled', 'Pregnancy', 'CommutingTime', 'Payment', 'Height',\n",
       "       'Weight', 'DutyHours', 'OverTimeWork'],\n",
       "      dtype='object')"
      ]
     },
     "execution_count": 9,
     "metadata": {},
     "output_type": "execute_result"
    }
   ],
   "source": [
    "df.columns"
   ]
  },
  {
   "cell_type": "code",
   "execution_count": 10,
   "metadata": {},
   "outputs": [
    {
     "name": "stderr",
     "output_type": "stream",
     "text": [
      "C:\\Users\\KimJinSeop\\Anaconda3\\lib\\site-packages\\numpy\\core\\fromnumeric.py:2389: FutureWarning: Method .ptp is deprecated and will be removed in a future version. Use numpy.ptp instead.\n",
      "  return ptp(axis=axis, out=out, **kwargs)\n"
     ]
    },
    {
     "data": {
      "text/html": [
       "<table class=\"simpletable\">\n",
       "<caption>OLS Regression Results</caption>\n",
       "<tr>\n",
       "  <th>Dep. Variable:</th>            <td>y</td>        <th>  R-squared:         </th>  <td>   0.008</td> \n",
       "</tr>\n",
       "<tr>\n",
       "  <th>Model:</th>                   <td>OLS</td>       <th>  Adj. R-squared:    </th>  <td>   0.008</td> \n",
       "</tr>\n",
       "<tr>\n",
       "  <th>Method:</th>             <td>Least Squares</td>  <th>  F-statistic:       </th>  <td>   18.46</td> \n",
       "</tr>\n",
       "<tr>\n",
       "  <th>Date:</th>             <td>Thu, 07 Nov 2019</td> <th>  Prob (F-statistic):</th>  <td>5.69e-50</td> \n",
       "</tr>\n",
       "<tr>\n",
       "  <th>Time:</th>                 <td>00:32:37</td>     <th>  Log-Likelihood:    </th>  <td>  9902.1</td> \n",
       "</tr>\n",
       "<tr>\n",
       "  <th>No. Observations:</th>      <td> 34266</td>      <th>  AIC:               </th> <td>-1.977e+04</td>\n",
       "</tr>\n",
       "<tr>\n",
       "  <th>Df Residuals:</th>          <td> 34250</td>      <th>  BIC:               </th> <td>-1.964e+04</td>\n",
       "</tr>\n",
       "<tr>\n",
       "  <th>Df Model:</th>              <td>    15</td>      <th>                     </th>      <td> </td>    \n",
       "</tr>\n",
       "<tr>\n",
       "  <th>Covariance Type:</th>      <td>nonrobust</td>    <th>                     </th>      <td> </td>    \n",
       "</tr>\n",
       "</table>\n",
       "<table class=\"simpletable\">\n",
       "<tr>\n",
       "        <td></td>           <th>coef</th>     <th>std err</th>      <th>t</th>      <th>P>|t|</th>  <th>[0.025</th>    <th>0.975]</th>  \n",
       "</tr>\n",
       "<tr>\n",
       "  <th>const</th>         <td>    0.2688</td> <td>    0.110</td> <td>    2.455</td> <td> 0.014</td> <td>    0.054</td> <td>    0.483</td>\n",
       "</tr>\n",
       "<tr>\n",
       "  <th>Year</th>          <td>    0.0010</td> <td>    0.000</td> <td>    3.904</td> <td> 0.000</td> <td>    0.001</td> <td>    0.002</td>\n",
       "</tr>\n",
       "<tr>\n",
       "  <th>Female</th>        <td>   -0.2784</td> <td>    0.105</td> <td>   -2.653</td> <td> 0.008</td> <td>   -0.484</td> <td>   -0.073</td>\n",
       "</tr>\n",
       "<tr>\n",
       "  <th>Edu</th>           <td>    0.0013</td> <td>    0.002</td> <td>    0.510</td> <td> 0.610</td> <td>   -0.004</td> <td>    0.006</td>\n",
       "</tr>\n",
       "<tr>\n",
       "  <th>Skill</th>         <td>    0.0150</td> <td>    0.005</td> <td>    3.214</td> <td> 0.001</td> <td>    0.006</td> <td>    0.024</td>\n",
       "</tr>\n",
       "<tr>\n",
       "  <th>Hand</th>          <td>   -0.0036</td> <td>    0.007</td> <td>   -0.489</td> <td> 0.625</td> <td>   -0.018</td> <td>    0.011</td>\n",
       "</tr>\n",
       "<tr>\n",
       "  <th>NumberofYear</th>  <td>   -0.0065</td> <td>    0.002</td> <td>   -3.073</td> <td> 0.002</td> <td>   -0.011</td> <td>   -0.002</td>\n",
       "</tr>\n",
       "<tr>\n",
       "  <th>Married</th>       <td>   -0.0223</td> <td>    0.006</td> <td>   -3.961</td> <td> 0.000</td> <td>   -0.033</td> <td>   -0.011</td>\n",
       "</tr>\n",
       "<tr>\n",
       "  <th>Chiled</th>        <td>    0.0251</td> <td>    0.004</td> <td>    6.295</td> <td> 0.000</td> <td>    0.017</td> <td>    0.033</td>\n",
       "</tr>\n",
       "<tr>\n",
       "  <th>Pregnancy</th>     <td>    0.0217</td> <td>    0.006</td> <td>    3.843</td> <td> 0.000</td> <td>    0.011</td> <td>    0.033</td>\n",
       "</tr>\n",
       "<tr>\n",
       "  <th>CommutingTime</th> <td>    0.0652</td> <td>    0.005</td> <td>   11.925</td> <td> 0.000</td> <td>    0.054</td> <td>    0.076</td>\n",
       "</tr>\n",
       "<tr>\n",
       "  <th>Payment</th>       <td>  -3.9e-09</td> <td> 2.95e-09</td> <td>   -1.323</td> <td> 0.186</td> <td>-9.68e-09</td> <td> 1.88e-09</td>\n",
       "</tr>\n",
       "<tr>\n",
       "  <th>Height</th>        <td>   -0.0002</td> <td>    0.000</td> <td>   -1.721</td> <td> 0.085</td> <td>   -0.001</td> <td> 3.45e-05</td>\n",
       "</tr>\n",
       "<tr>\n",
       "  <th>Weight</th>        <td>    0.0012</td> <td>    0.000</td> <td>    5.667</td> <td> 0.000</td> <td>    0.001</td> <td>    0.002</td>\n",
       "</tr>\n",
       "<tr>\n",
       "  <th>DutyHours</th>     <td> 1.946e-05</td> <td> 2.74e-05</td> <td>    0.710</td> <td> 0.477</td> <td>-3.42e-05</td> <td> 7.31e-05</td>\n",
       "</tr>\n",
       "<tr>\n",
       "  <th>OverTimeWork</th>  <td>   -0.0080</td> <td>    0.002</td> <td>   -3.362</td> <td> 0.001</td> <td>   -0.013</td> <td>   -0.003</td>\n",
       "</tr>\n",
       "</table>\n",
       "<table class=\"simpletable\">\n",
       "<tr>\n",
       "  <th>Omnibus:</th>       <td>33210.220</td> <th>  Durbin-Watson:     </th>  <td>   1.334</td> \n",
       "</tr>\n",
       "<tr>\n",
       "  <th>Prob(Omnibus):</th>  <td> 0.000</td>   <th>  Jarque-Bera (JB):  </th> <td>960350.771</td>\n",
       "</tr>\n",
       "<tr>\n",
       "  <th>Skew:</th>           <td> 5.062</td>   <th>  Prob(JB):          </th>  <td>    0.00</td> \n",
       "</tr>\n",
       "<tr>\n",
       "  <th>Kurtosis:</th>       <td>26.877</td>   <th>  Cond. No.          </th>  <td>6.48e+08</td> \n",
       "</tr>\n",
       "</table><br/><br/>Warnings:<br/>[1] Standard Errors assume that the covariance matrix of the errors is correctly specified.<br/>[2] The condition number is large, 6.48e+08. This might indicate that there are<br/>strong multicollinearity or other numerical problems."
      ],
      "text/plain": [
       "<class 'statsmodels.iolib.summary.Summary'>\n",
       "\"\"\"\n",
       "                            OLS Regression Results                            \n",
       "==============================================================================\n",
       "Dep. Variable:                      y   R-squared:                       0.008\n",
       "Model:                            OLS   Adj. R-squared:                  0.008\n",
       "Method:                 Least Squares   F-statistic:                     18.46\n",
       "Date:                Thu, 07 Nov 2019   Prob (F-statistic):           5.69e-50\n",
       "Time:                        00:32:37   Log-Likelihood:                 9902.1\n",
       "No. Observations:               34266   AIC:                        -1.977e+04\n",
       "Df Residuals:                   34250   BIC:                        -1.964e+04\n",
       "Df Model:                          15                                         \n",
       "Covariance Type:            nonrobust                                         \n",
       "=================================================================================\n",
       "                    coef    std err          t      P>|t|      [0.025      0.975]\n",
       "---------------------------------------------------------------------------------\n",
       "const             0.2688      0.110      2.455      0.014       0.054       0.483\n",
       "Year              0.0010      0.000      3.904      0.000       0.001       0.002\n",
       "Female           -0.2784      0.105     -2.653      0.008      -0.484      -0.073\n",
       "Edu               0.0013      0.002      0.510      0.610      -0.004       0.006\n",
       "Skill             0.0150      0.005      3.214      0.001       0.006       0.024\n",
       "Hand             -0.0036      0.007     -0.489      0.625      -0.018       0.011\n",
       "NumberofYear     -0.0065      0.002     -3.073      0.002      -0.011      -0.002\n",
       "Married          -0.0223      0.006     -3.961      0.000      -0.033      -0.011\n",
       "Chiled            0.0251      0.004      6.295      0.000       0.017       0.033\n",
       "Pregnancy         0.0217      0.006      3.843      0.000       0.011       0.033\n",
       "CommutingTime     0.0652      0.005     11.925      0.000       0.054       0.076\n",
       "Payment         -3.9e-09   2.95e-09     -1.323      0.186   -9.68e-09    1.88e-09\n",
       "Height           -0.0002      0.000     -1.721      0.085      -0.001    3.45e-05\n",
       "Weight            0.0012      0.000      5.667      0.000       0.001       0.002\n",
       "DutyHours      1.946e-05   2.74e-05      0.710      0.477   -3.42e-05    7.31e-05\n",
       "OverTimeWork     -0.0080      0.002     -3.362      0.001      -0.013      -0.003\n",
       "==============================================================================\n",
       "Omnibus:                    33210.220   Durbin-Watson:                   1.334\n",
       "Prob(Omnibus):                  0.000   Jarque-Bera (JB):           960350.771\n",
       "Skew:                           5.062   Prob(JB):                         0.00\n",
       "Kurtosis:                      26.877   Cond. No.                     6.48e+08\n",
       "==============================================================================\n",
       "\n",
       "Warnings:\n",
       "[1] Standard Errors assume that the covariance matrix of the errors is correctly specified.\n",
       "[2] The condition number is large, 6.48e+08. This might indicate that there are\n",
       "strong multicollinearity or other numerical problems.\n",
       "\"\"\""
      ]
     },
     "execution_count": 10,
     "metadata": {},
     "output_type": "execute_result"
    }
   ],
   "source": [
    "import statsmodels.api as sm\n",
    "x = df[['Year', 'Female', 'Edu', 'Skill', 'Hand', 'NumberofYear',\n",
    "       'Married', 'Chiled', 'Pregnancy', 'CommutingTime', 'Payment', 'Height',\n",
    "       'Weight', 'DutyHours', 'OverTimeWork']]\n",
    "x2 = sm.add_constant(x)\n",
    "model = sm.OLS(datay,x2)\n",
    "result = model.fit()\n",
    "result.summary()"
   ]
  },
  {
   "cell_type": "code",
   "execution_count": 11,
   "metadata": {},
   "outputs": [
    {
     "name": "stdout",
     "output_type": "stream",
     "text": [
      "'Year','Female','Skill','NumberofYear','Married','Chiled','Pregnancy','CommutingTime','Weight','OverTimeWork',\n"
     ]
    }
   ],
   "source": [
    "index = 0\n",
    "columes = \"\"\n",
    "for pval in result.pvalues:\n",
    "    if(index == 0):\n",
    "        index = index + 1\n",
    "        continue\n",
    "    if(pval < 0.05):\n",
    "        columes = columes + \"'\"+ x.columns[index-1] + \"',\"\n",
    "    index = index + 1\n",
    "print(columes)"
   ]
  },
  {
   "cell_type": "code",
   "execution_count": 12,
   "metadata": {},
   "outputs": [
    {
     "data": {
      "text/html": [
       "<div>\n",
       "<style scoped>\n",
       "    .dataframe tbody tr th:only-of-type {\n",
       "        vertical-align: middle;\n",
       "    }\n",
       "\n",
       "    .dataframe tbody tr th {\n",
       "        vertical-align: top;\n",
       "    }\n",
       "\n",
       "    .dataframe thead th {\n",
       "        text-align: right;\n",
       "    }\n",
       "</style>\n",
       "<table border=\"1\" class=\"dataframe\">\n",
       "  <thead>\n",
       "    <tr style=\"text-align: right;\">\n",
       "      <th></th>\n",
       "      <th>Bad</th>\n",
       "      <th>Year</th>\n",
       "      <th>Female</th>\n",
       "      <th>Skill</th>\n",
       "      <th>NumberofYear</th>\n",
       "      <th>Married</th>\n",
       "      <th>Chiled</th>\n",
       "      <th>Pregnancy</th>\n",
       "      <th>CommutingTime</th>\n",
       "      <th>Weight</th>\n",
       "      <th>OverTimeWork</th>\n",
       "    </tr>\n",
       "  </thead>\n",
       "  <tbody>\n",
       "    <tr>\n",
       "      <th>0</th>\n",
       "      <td>1</td>\n",
       "      <td>33.0</td>\n",
       "      <td>1.0</td>\n",
       "      <td>2.0</td>\n",
       "      <td>5.0</td>\n",
       "      <td>1.0</td>\n",
       "      <td>1.0</td>\n",
       "      <td>0.0</td>\n",
       "      <td>0.0</td>\n",
       "      <td>45.0</td>\n",
       "      <td>0.0</td>\n",
       "    </tr>\n",
       "    <tr>\n",
       "      <th>1</th>\n",
       "      <td>0</td>\n",
       "      <td>36.0</td>\n",
       "      <td>1.0</td>\n",
       "      <td>2.0</td>\n",
       "      <td>5.0</td>\n",
       "      <td>1.0</td>\n",
       "      <td>1.0</td>\n",
       "      <td>0.0</td>\n",
       "      <td>0.0</td>\n",
       "      <td>56.0</td>\n",
       "      <td>0.0</td>\n",
       "    </tr>\n",
       "    <tr>\n",
       "      <th>2</th>\n",
       "      <td>0</td>\n",
       "      <td>35.0</td>\n",
       "      <td>1.0</td>\n",
       "      <td>2.0</td>\n",
       "      <td>5.0</td>\n",
       "      <td>1.0</td>\n",
       "      <td>1.0</td>\n",
       "      <td>0.0</td>\n",
       "      <td>0.0</td>\n",
       "      <td>46.0</td>\n",
       "      <td>0.0</td>\n",
       "    </tr>\n",
       "    <tr>\n",
       "      <th>3</th>\n",
       "      <td>0</td>\n",
       "      <td>33.0</td>\n",
       "      <td>1.0</td>\n",
       "      <td>2.0</td>\n",
       "      <td>5.0</td>\n",
       "      <td>1.0</td>\n",
       "      <td>1.0</td>\n",
       "      <td>0.0</td>\n",
       "      <td>0.0</td>\n",
       "      <td>45.0</td>\n",
       "      <td>0.0</td>\n",
       "    </tr>\n",
       "    <tr>\n",
       "      <th>4</th>\n",
       "      <td>0</td>\n",
       "      <td>36.0</td>\n",
       "      <td>1.0</td>\n",
       "      <td>2.0</td>\n",
       "      <td>5.0</td>\n",
       "      <td>1.0</td>\n",
       "      <td>1.0</td>\n",
       "      <td>0.0</td>\n",
       "      <td>0.0</td>\n",
       "      <td>45.0</td>\n",
       "      <td>0.0</td>\n",
       "    </tr>\n",
       "  </tbody>\n",
       "</table>\n",
       "</div>"
      ],
      "text/plain": [
       "   Bad  Year  Female  Skill  NumberofYear  Married  Chiled  Pregnancy  \\\n",
       "0    1  33.0     1.0    2.0           5.0      1.0     1.0        0.0   \n",
       "1    0  36.0     1.0    2.0           5.0      1.0     1.0        0.0   \n",
       "2    0  35.0     1.0    2.0           5.0      1.0     1.0        0.0   \n",
       "3    0  33.0     1.0    2.0           5.0      1.0     1.0        0.0   \n",
       "4    0  36.0     1.0    2.0           5.0      1.0     1.0        0.0   \n",
       "\n",
       "   CommutingTime  Weight  OverTimeWork  \n",
       "0            0.0    45.0           0.0  \n",
       "1            0.0    56.0           0.0  \n",
       "2            0.0    46.0           0.0  \n",
       "3            0.0    45.0           0.0  \n",
       "4            0.0    45.0           0.0  "
      ]
     },
     "execution_count": 12,
     "metadata": {},
     "output_type": "execute_result"
    }
   ],
   "source": [
    "da = df[['Bad','Year','Female','Skill','NumberofYear','Married','Chiled','Pregnancy','CommutingTime','Weight','OverTimeWork']]\n",
    "da.head()"
   ]
  },
  {
   "cell_type": "code",
   "execution_count": 13,
   "metadata": {},
   "outputs": [],
   "source": [
    "data = np.array(da)\n",
    "nvar = data.shape[1]\n",
    "datax = data[:,1:nvar]\n",
    "datay = data[:,0]"
   ]
  },
  {
   "cell_type": "code",
   "execution_count": 14,
   "metadata": {},
   "outputs": [],
   "source": [
    "from sklearn.model_selection import train_test_split\n",
    "train_x, test_x, train_y, test_y = train_test_split(datax, datay, test_size=0.3, random_state=500)"
   ]
  },
  {
   "cell_type": "code",
   "execution_count": 15,
   "metadata": {},
   "outputs": [],
   "source": [
    "from sklearn.preprocessing import MinMaxScaler\n",
    "scaler = MinMaxScaler()\n",
    "scaler.fit(train_x)\n",
    "train_x = scaler.transform(train_x)\n",
    "test_x = scaler.transform(test_x)"
   ]
  },
  {
   "cell_type": "code",
   "execution_count": 16,
   "metadata": {},
   "outputs": [],
   "source": [
    "from sklearn.naive_bayes import GaussianNB\n",
    "bayes = GaussianNB(priors=[0.59, 0.41])\n",
    "bayes.fit(train_x,train_y)\n",
    "predict = bayes.predict(test_x)"
   ]
  },
  {
   "cell_type": "code",
   "execution_count": 17,
   "metadata": {},
   "outputs": [
    {
     "name": "stdout",
     "output_type": "stream",
     "text": [
      "0.9170233463035019\n"
     ]
    }
   ],
   "source": [
    "dif = test_y - predict\n",
    "accuracy2 = 1 - (np.size(np.where(dif != 0))/np.size(test_y))\n",
    "print(accuracy2)"
   ]
  },
  {
   "cell_type": "markdown",
   "metadata": {},
   "source": [
    "## RandomForest로 분석한 결과만 활용한 경우"
   ]
  },
  {
   "cell_type": "code",
   "execution_count": 18,
   "metadata": {},
   "outputs": [],
   "source": [
    "data = np.array(df)\n",
    "nvar = data.shape[1]\n",
    "datax = data[:,1:nvar]\n",
    "datay = data[:,0]"
   ]
  },
  {
   "cell_type": "code",
   "execution_count": 19,
   "metadata": {},
   "outputs": [],
   "source": [
    "from sklearn.model_selection import train_test_split\n",
    "train_x, test_x, train_y, test_y = train_test_split(datax, datay, test_size=0.3, random_state=500)"
   ]
  },
  {
   "cell_type": "code",
   "execution_count": 20,
   "metadata": {},
   "outputs": [],
   "source": [
    "from sklearn.preprocessing import MinMaxScaler\n",
    "scaler = MinMaxScaler()\n",
    "scaler.fit(train_x)\n",
    "train_x = scaler.transform(train_x)\n",
    "test_x = scaler.transform(test_x)"
   ]
  },
  {
   "cell_type": "code",
   "execution_count": 21,
   "metadata": {},
   "outputs": [
    {
     "data": {
      "text/plain": [
       "RandomForestClassifier(bootstrap=True, class_weight=None, criterion='gini',\n",
       "                       max_depth=None, max_features='auto', max_leaf_nodes=None,\n",
       "                       min_impurity_decrease=0.0, min_impurity_split=None,\n",
       "                       min_samples_leaf=1, min_samples_split=2,\n",
       "                       min_weight_fraction_leaf=0.0, n_estimators=50,\n",
       "                       n_jobs=None, oob_score=False, random_state=None,\n",
       "                       verbose=0, warm_start=False)"
      ]
     },
     "execution_count": 21,
     "metadata": {},
     "output_type": "execute_result"
    }
   ],
   "source": [
    "from sklearn.ensemble import RandomForestClassifier\n",
    "rf = RandomForestClassifier(n_estimators= 50)\n",
    "rf.fit(train_x, train_y)"
   ]
  },
  {
   "cell_type": "code",
   "execution_count": 22,
   "metadata": {},
   "outputs": [
    {
     "data": {
      "text/plain": [
       "Index(['Bad', 'Year', 'Female', 'Edu', 'Skill', 'Hand', 'NumberofYear',\n",
       "       'Married', 'Chiled', 'Pregnancy', 'CommutingTime', 'Payment', 'Height',\n",
       "       'Weight', 'DutyHours', 'OverTimeWork'],\n",
       "      dtype='object')"
      ]
     },
     "execution_count": 22,
     "metadata": {},
     "output_type": "execute_result"
    }
   ],
   "source": [
    "df.columns"
   ]
  },
  {
   "cell_type": "code",
   "execution_count": 23,
   "metadata": {},
   "outputs": [],
   "source": [
    "Importance = np.round(rf.feature_importances_,2)\n",
    "TrainColume = ('Year', 'Female', 'Edu', 'Skill', 'Hand', 'NumberofYear',\n",
    "       'Married', 'Chiled', 'Pregnancy', 'CommutingTime', 'Payment', 'Height',\n",
    "       'Weight', 'DutyHours', 'OverTimeWork')\n",
    "df_data ={'Imt' : Importance, 'Colume' : TrainColume}\n",
    "df_data = pd.DataFrame(df_data)"
   ]
  },
  {
   "cell_type": "code",
   "execution_count": 24,
   "metadata": {},
   "outputs": [
    {
     "data": {
      "image/png": "[encoded data removed]",
      "text/plain": [
       "<Figure size 432x288 with 1 Axes>"
      ]
     },
     "metadata": {
      "needs_background": "light"
     },
     "output_type": "display_data"
    }
   ],
   "source": [
    "import seaborn as sns\n",
    "ax = sns.barplot(x=df_data['Imt'], y=df_data['Colume'])\n",
    "ax.set(xlabel='Importance', ylabel='Variable')\n",
    "plt.title('importance by variable')\n",
    "plt.show()"
   ]
  },
  {
   "cell_type": "code",
   "execution_count": 25,
   "metadata": {},
   "outputs": [],
   "source": [
    "del df['Female']"
   ]
  },
  {
   "cell_type": "code",
   "execution_count": 26,
   "metadata": {},
   "outputs": [],
   "source": [
    "data = np.array(df)\n",
    "nvar = data.shape[1]\n",
    "datax = data[:,1:nvar]\n",
    "datay = data[:,0]"
   ]
  },
  {
   "cell_type": "code",
   "execution_count": 27,
   "metadata": {},
   "outputs": [],
   "source": [
    "from sklearn.model_selection import train_test_split\n",
    "train_x, test_x, train_y, test_y = train_test_split(datax, datay, test_size=0.3, random_state=500)"
   ]
  },
  {
   "cell_type": "code",
   "execution_count": 28,
   "metadata": {},
   "outputs": [],
   "source": [
    "from sklearn.preprocessing import MinMaxScaler\n",
    "scaler = MinMaxScaler()\n",
    "scaler.fit(train_x)\n",
    "train_x = scaler.transform(train_x)\n",
    "test_x = scaler.transform(test_x)"
   ]
  },
  {
   "cell_type": "code",
   "execution_count": 29,
   "metadata": {},
   "outputs": [],
   "source": [
    "from sklearn.naive_bayes import GaussianNB\n",
    "bayes = GaussianNB(priors=[0.59, 0.41])\n",
    "bayes.fit(train_x,train_y)\n",
    "predict = bayes.predict(test_x)"
   ]
  },
  {
   "cell_type": "code",
   "execution_count": 30,
   "metadata": {},
   "outputs": [
    {
     "name": "stdout",
     "output_type": "stream",
     "text": [
      "0.40603112840466926\n"
     ]
    }
   ],
   "source": [
    "dif = test_y - predict\n",
    "accuracy3 = 1 - (np.size(np.where(dif != 0))/np.size(test_y))\n",
    "print(accuracy3)"
   ]
  },
  {
   "cell_type": "markdown",
   "metadata": {},
   "source": [
    "## 두가지 방법으로 분석한 결과를 모두 활용한 경우"
   ]
  },
  {
   "cell_type": "code",
   "execution_count": 31,
   "metadata": {},
   "outputs": [
    {
     "data": {
      "text/plain": [
       "Index(['Bad', 'Year', 'Edu', 'Skill', 'Hand', 'NumberofYear', 'Married',\n",
       "       'Chiled', 'Pregnancy', 'CommutingTime', 'Payment', 'Height', 'Weight',\n",
       "       'DutyHours', 'OverTimeWork'],\n",
       "      dtype='object')"
      ]
     },
     "execution_count": 31,
     "metadata": {},
     "output_type": "execute_result"
    }
   ],
   "source": [
    "df.columns"
   ]
  },
  {
   "cell_type": "code",
   "execution_count": 32,
   "metadata": {},
   "outputs": [
    {
     "name": "stderr",
     "output_type": "stream",
     "text": [
      "C:\\Users\\KimJinSeop\\Anaconda3\\lib\\site-packages\\numpy\\core\\fromnumeric.py:2389: FutureWarning: Method .ptp is deprecated and will be removed in a future version. Use numpy.ptp instead.\n",
      "  return ptp(axis=axis, out=out, **kwargs)\n"
     ]
    },
    {
     "data": {
      "text/html": [
       "<table class=\"simpletable\">\n",
       "<caption>OLS Regression Results</caption>\n",
       "<tr>\n",
       "  <th>Dep. Variable:</th>            <td>y</td>        <th>  R-squared:         </th>  <td>   0.008</td> \n",
       "</tr>\n",
       "<tr>\n",
       "  <th>Model:</th>                   <td>OLS</td>       <th>  Adj. R-squared:    </th>  <td>   0.007</td> \n",
       "</tr>\n",
       "<tr>\n",
       "  <th>Method:</th>             <td>Least Squares</td>  <th>  F-statistic:       </th>  <td>   19.27</td> \n",
       "</tr>\n",
       "<tr>\n",
       "  <th>Date:</th>             <td>Thu, 07 Nov 2019</td> <th>  Prob (F-statistic):</th>  <td>3.62e-49</td> \n",
       "</tr>\n",
       "<tr>\n",
       "  <th>Time:</th>                 <td>00:32:39</td>     <th>  Log-Likelihood:    </th>  <td>  9898.6</td> \n",
       "</tr>\n",
       "<tr>\n",
       "  <th>No. Observations:</th>      <td> 34266</td>      <th>  AIC:               </th> <td>-1.977e+04</td>\n",
       "</tr>\n",
       "<tr>\n",
       "  <th>Df Residuals:</th>          <td> 34251</td>      <th>  BIC:               </th> <td>-1.964e+04</td>\n",
       "</tr>\n",
       "<tr>\n",
       "  <th>Df Model:</th>              <td>    14</td>      <th>                     </th>      <td> </td>    \n",
       "</tr>\n",
       "<tr>\n",
       "  <th>Covariance Type:</th>      <td>nonrobust</td>    <th>                     </th>      <td> </td>    \n",
       "</tr>\n",
       "</table>\n",
       "<table class=\"simpletable\">\n",
       "<tr>\n",
       "        <td></td>           <th>coef</th>     <th>std err</th>      <th>t</th>      <th>P>|t|</th>  <th>[0.025</th>    <th>0.975]</th>  \n",
       "</tr>\n",
       "<tr>\n",
       "  <th>const</th>         <td>   -0.0117</td> <td>    0.028</td> <td>   -0.414</td> <td> 0.679</td> <td>   -0.067</td> <td>    0.044</td>\n",
       "</tr>\n",
       "<tr>\n",
       "  <th>Year</th>          <td>    0.0010</td> <td>    0.000</td> <td>    3.918</td> <td> 0.000</td> <td>    0.001</td> <td>    0.002</td>\n",
       "</tr>\n",
       "<tr>\n",
       "  <th>Edu</th>           <td>    0.0013</td> <td>    0.002</td> <td>    0.531</td> <td> 0.596</td> <td>   -0.004</td> <td>    0.006</td>\n",
       "</tr>\n",
       "<tr>\n",
       "  <th>Skill</th>         <td>    0.0154</td> <td>    0.005</td> <td>    3.292</td> <td> 0.001</td> <td>    0.006</td> <td>    0.025</td>\n",
       "</tr>\n",
       "<tr>\n",
       "  <th>Hand</th>          <td>   -0.0036</td> <td>    0.007</td> <td>   -0.488</td> <td> 0.626</td> <td>   -0.018</td> <td>    0.011</td>\n",
       "</tr>\n",
       "<tr>\n",
       "  <th>NumberofYear</th>  <td>   -0.0068</td> <td>    0.002</td> <td>   -3.194</td> <td> 0.001</td> <td>   -0.011</td> <td>   -0.003</td>\n",
       "</tr>\n",
       "<tr>\n",
       "  <th>Married</th>       <td>   -0.0229</td> <td>    0.006</td> <td>   -4.074</td> <td> 0.000</td> <td>   -0.034</td> <td>   -0.012</td>\n",
       "</tr>\n",
       "<tr>\n",
       "  <th>Chiled</th>        <td>    0.0252</td> <td>    0.004</td> <td>    6.326</td> <td> 0.000</td> <td>    0.017</td> <td>    0.033</td>\n",
       "</tr>\n",
       "<tr>\n",
       "  <th>Pregnancy</th>     <td>    0.0218</td> <td>    0.006</td> <td>    3.864</td> <td> 0.000</td> <td>    0.011</td> <td>    0.033</td>\n",
       "</tr>\n",
       "<tr>\n",
       "  <th>CommutingTime</th> <td>    0.0652</td> <td>    0.005</td> <td>   11.936</td> <td> 0.000</td> <td>    0.055</td> <td>    0.076</td>\n",
       "</tr>\n",
       "<tr>\n",
       "  <th>Payment</th>       <td>-3.673e-09</td> <td> 2.95e-09</td> <td>   -1.246</td> <td> 0.213</td> <td>-9.45e-09</td> <td>  2.1e-09</td>\n",
       "</tr>\n",
       "<tr>\n",
       "  <th>Height</th>        <td>   -0.0002</td> <td>    0.000</td> <td>   -1.706</td> <td> 0.088</td> <td>   -0.001</td> <td> 3.68e-05</td>\n",
       "</tr>\n",
       "<tr>\n",
       "  <th>Weight</th>        <td>    0.0013</td> <td>    0.000</td> <td>    5.815</td> <td> 0.000</td> <td>    0.001</td> <td>    0.002</td>\n",
       "</tr>\n",
       "<tr>\n",
       "  <th>DutyHours</th>     <td> 1.969e-05</td> <td> 2.74e-05</td> <td>    0.719</td> <td> 0.472</td> <td> -3.4e-05</td> <td> 7.34e-05</td>\n",
       "</tr>\n",
       "<tr>\n",
       "  <th>OverTimeWork</th>  <td>   -0.0082</td> <td>    0.002</td> <td>   -3.421</td> <td> 0.001</td> <td>   -0.013</td> <td>   -0.003</td>\n",
       "</tr>\n",
       "</table>\n",
       "<table class=\"simpletable\">\n",
       "<tr>\n",
       "  <th>Omnibus:</th>       <td>33213.575</td> <th>  Durbin-Watson:     </th>  <td>   1.334</td> \n",
       "</tr>\n",
       "<tr>\n",
       "  <th>Prob(Omnibus):</th>  <td> 0.000</td>   <th>  Jarque-Bera (JB):  </th> <td>960442.423</td>\n",
       "</tr>\n",
       "<tr>\n",
       "  <th>Skew:</th>           <td> 5.063</td>   <th>  Prob(JB):          </th>  <td>    0.00</td> \n",
       "</tr>\n",
       "<tr>\n",
       "  <th>Kurtosis:</th>       <td>26.878</td>   <th>  Cond. No.          </th>  <td>1.23e+08</td> \n",
       "</tr>\n",
       "</table><br/><br/>Warnings:<br/>[1] Standard Errors assume that the covariance matrix of the errors is correctly specified.<br/>[2] The condition number is large, 1.23e+08. This might indicate that there are<br/>strong multicollinearity or other numerical problems."
      ],
      "text/plain": [
       "<class 'statsmodels.iolib.summary.Summary'>\n",
       "\"\"\"\n",
       "                            OLS Regression Results                            \n",
       "==============================================================================\n",
       "Dep. Variable:                      y   R-squared:                       0.008\n",
       "Model:                            OLS   Adj. R-squared:                  0.007\n",
       "Method:                 Least Squares   F-statistic:                     19.27\n",
       "Date:                Thu, 07 Nov 2019   Prob (F-statistic):           3.62e-49\n",
       "Time:                        00:32:39   Log-Likelihood:                 9898.6\n",
       "No. Observations:               34266   AIC:                        -1.977e+04\n",
       "Df Residuals:                   34251   BIC:                        -1.964e+04\n",
       "Df Model:                          14                                         \n",
       "Covariance Type:            nonrobust                                         \n",
       "=================================================================================\n",
       "                    coef    std err          t      P>|t|      [0.025      0.975]\n",
       "---------------------------------------------------------------------------------\n",
       "const            -0.0117      0.028     -0.414      0.679      -0.067       0.044\n",
       "Year              0.0010      0.000      3.918      0.000       0.001       0.002\n",
       "Edu               0.0013      0.002      0.531      0.596      -0.004       0.006\n",
       "Skill             0.0154      0.005      3.292      0.001       0.006       0.025\n",
       "Hand             -0.0036      0.007     -0.488      0.626      -0.018       0.011\n",
       "NumberofYear     -0.0068      0.002     -3.194      0.001      -0.011      -0.003\n",
       "Married          -0.0229      0.006     -4.074      0.000      -0.034      -0.012\n",
       "Chiled            0.0252      0.004      6.326      0.000       0.017       0.033\n",
       "Pregnancy         0.0218      0.006      3.864      0.000       0.011       0.033\n",
       "CommutingTime     0.0652      0.005     11.936      0.000       0.055       0.076\n",
       "Payment       -3.673e-09   2.95e-09     -1.246      0.213   -9.45e-09     2.1e-09\n",
       "Height           -0.0002      0.000     -1.706      0.088      -0.001    3.68e-05\n",
       "Weight            0.0013      0.000      5.815      0.000       0.001       0.002\n",
       "DutyHours      1.969e-05   2.74e-05      0.719      0.472    -3.4e-05    7.34e-05\n",
       "OverTimeWork     -0.0082      0.002     -3.421      0.001      -0.013      -0.003\n",
       "==============================================================================\n",
       "Omnibus:                    33213.575   Durbin-Watson:                   1.334\n",
       "Prob(Omnibus):                  0.000   Jarque-Bera (JB):           960442.423\n",
       "Skew:                           5.063   Prob(JB):                         0.00\n",
       "Kurtosis:                      26.878   Cond. No.                     1.23e+08\n",
       "==============================================================================\n",
       "\n",
       "Warnings:\n",
       "[1] Standard Errors assume that the covariance matrix of the errors is correctly specified.\n",
       "[2] The condition number is large, 1.23e+08. This might indicate that there are\n",
       "strong multicollinearity or other numerical problems.\n",
       "\"\"\""
      ]
     },
     "execution_count": 32,
     "metadata": {},
     "output_type": "execute_result"
    }
   ],
   "source": [
    "import statsmodels.api as sm\n",
    "x = df[['Year', 'Edu', 'Skill', 'Hand', 'NumberofYear', 'Married',\n",
    "       'Chiled', 'Pregnancy', 'CommutingTime', 'Payment', 'Height', 'Weight',\n",
    "       'DutyHours', 'OverTimeWork']]\n",
    "x2 = sm.add_constant(x)\n",
    "model = sm.OLS(datay,x2)\n",
    "result = model.fit()\n",
    "result.summary()"
   ]
  },
  {
   "cell_type": "code",
   "execution_count": 33,
   "metadata": {},
   "outputs": [
    {
     "name": "stdout",
     "output_type": "stream",
     "text": [
      "'Year','Skill','NumberofYear','Married','Chiled','Pregnancy','CommutingTime','Weight','OverTimeWork',\n"
     ]
    }
   ],
   "source": [
    "index = 0\n",
    "columes = \"\"\n",
    "for pval in result.pvalues:\n",
    "    if(index == 0):\n",
    "        index = index + 1\n",
    "        continue\n",
    "    if(pval < 0.05):\n",
    "        columes = columes + \"'\"+ x.columns[index-1] + \"',\"\n",
    "    index = index + 1\n",
    "print(columes)"
   ]
  },
  {
   "cell_type": "code",
   "execution_count": 34,
   "metadata": {},
   "outputs": [
    {
     "data": {
      "text/html": [
       "<div>\n",
       "<style scoped>\n",
       "    .dataframe tbody tr th:only-of-type {\n",
       "        vertical-align: middle;\n",
       "    }\n",
       "\n",
       "    .dataframe tbody tr th {\n",
       "        vertical-align: top;\n",
       "    }\n",
       "\n",
       "    .dataframe thead th {\n",
       "        text-align: right;\n",
       "    }\n",
       "</style>\n",
       "<table border=\"1\" class=\"dataframe\">\n",
       "  <thead>\n",
       "    <tr style=\"text-align: right;\">\n",
       "      <th></th>\n",
       "      <th>Bad</th>\n",
       "      <th>Year</th>\n",
       "      <th>Skill</th>\n",
       "      <th>NumberofYear</th>\n",
       "      <th>Married</th>\n",
       "      <th>Chiled</th>\n",
       "      <th>Pregnancy</th>\n",
       "      <th>CommutingTime</th>\n",
       "      <th>Weight</th>\n",
       "      <th>OverTimeWork</th>\n",
       "    </tr>\n",
       "  </thead>\n",
       "  <tbody>\n",
       "    <tr>\n",
       "      <th>0</th>\n",
       "      <td>1</td>\n",
       "      <td>33.0</td>\n",
       "      <td>2.0</td>\n",
       "      <td>5.0</td>\n",
       "      <td>1.0</td>\n",
       "      <td>1.0</td>\n",
       "      <td>0.0</td>\n",
       "      <td>0.0</td>\n",
       "      <td>45.0</td>\n",
       "      <td>0.0</td>\n",
       "    </tr>\n",
       "    <tr>\n",
       "      <th>1</th>\n",
       "      <td>0</td>\n",
       "      <td>36.0</td>\n",
       "      <td>2.0</td>\n",
       "      <td>5.0</td>\n",
       "      <td>1.0</td>\n",
       "      <td>1.0</td>\n",
       "      <td>0.0</td>\n",
       "      <td>0.0</td>\n",
       "      <td>56.0</td>\n",
       "      <td>0.0</td>\n",
       "    </tr>\n",
       "    <tr>\n",
       "      <th>2</th>\n",
       "      <td>0</td>\n",
       "      <td>35.0</td>\n",
       "      <td>2.0</td>\n",
       "      <td>5.0</td>\n",
       "      <td>1.0</td>\n",
       "      <td>1.0</td>\n",
       "      <td>0.0</td>\n",
       "      <td>0.0</td>\n",
       "      <td>46.0</td>\n",
       "      <td>0.0</td>\n",
       "    </tr>\n",
       "    <tr>\n",
       "      <th>3</th>\n",
       "      <td>0</td>\n",
       "      <td>33.0</td>\n",
       "      <td>2.0</td>\n",
       "      <td>5.0</td>\n",
       "      <td>1.0</td>\n",
       "      <td>1.0</td>\n",
       "      <td>0.0</td>\n",
       "      <td>0.0</td>\n",
       "      <td>45.0</td>\n",
       "      <td>0.0</td>\n",
       "    </tr>\n",
       "    <tr>\n",
       "      <th>4</th>\n",
       "      <td>0</td>\n",
       "      <td>36.0</td>\n",
       "      <td>2.0</td>\n",
       "      <td>5.0</td>\n",
       "      <td>1.0</td>\n",
       "      <td>1.0</td>\n",
       "      <td>0.0</td>\n",
       "      <td>0.0</td>\n",
       "      <td>45.0</td>\n",
       "      <td>0.0</td>\n",
       "    </tr>\n",
       "  </tbody>\n",
       "</table>\n",
       "</div>"
      ],
      "text/plain": [
       "   Bad  Year  Skill  NumberofYear  Married  Chiled  Pregnancy  CommutingTime  \\\n",
       "0    1  33.0    2.0           5.0      1.0     1.0        0.0            0.0   \n",
       "1    0  36.0    2.0           5.0      1.0     1.0        0.0            0.0   \n",
       "2    0  35.0    2.0           5.0      1.0     1.0        0.0            0.0   \n",
       "3    0  33.0    2.0           5.0      1.0     1.0        0.0            0.0   \n",
       "4    0  36.0    2.0           5.0      1.0     1.0        0.0            0.0   \n",
       "\n",
       "   Weight  OverTimeWork  \n",
       "0    45.0           0.0  \n",
       "1    56.0           0.0  \n",
       "2    46.0           0.0  \n",
       "3    45.0           0.0  \n",
       "4    45.0           0.0  "
      ]
     },
     "execution_count": 34,
     "metadata": {},
     "output_type": "execute_result"
    }
   ],
   "source": [
    "df = df[['Bad','Year','Skill','NumberofYear','Married','Chiled','Pregnancy','CommutingTime','Weight','OverTimeWork']]\n",
    "df.head()"
   ]
  },
  {
   "cell_type": "code",
   "execution_count": 35,
   "metadata": {},
   "outputs": [],
   "source": [
    "data = np.array(df)\n",
    "nvar = data.shape[1]\n",
    "datax = data[:,1:nvar]\n",
    "datay = data[:,0]"
   ]
  },
  {
   "cell_type": "code",
   "execution_count": 36,
   "metadata": {},
   "outputs": [],
   "source": [
    "from sklearn.model_selection import train_test_split\n",
    "train_x, test_x, train_y, test_y = train_test_split(datax, datay, test_size=0.3, random_state=500)"
   ]
  },
  {
   "cell_type": "code",
   "execution_count": 37,
   "metadata": {},
   "outputs": [],
   "source": [
    "from sklearn.preprocessing import MinMaxScaler\n",
    "scaler = MinMaxScaler()\n",
    "scaler.fit(train_x)\n",
    "train_x = scaler.transform(train_x)\n",
    "test_x = scaler.transform(test_x)"
   ]
  },
  {
   "cell_type": "code",
   "execution_count": 38,
   "metadata": {},
   "outputs": [],
   "source": [
    "from sklearn.naive_bayes import GaussianNB\n",
    "bayes = GaussianNB(priors=[0.59, 0.41])\n",
    "bayes.fit(train_x,train_y)\n",
    "predict = bayes.predict(test_x)"
   ]
  },
  {
   "cell_type": "code",
   "execution_count": 39,
   "metadata": {},
   "outputs": [
    {
     "name": "stdout",
     "output_type": "stream",
     "text": [
      "0.8082684824902724\n"
     ]
    }
   ],
   "source": [
    "# prior가 동일한 경우\n",
    "dif = test_y - predict\n",
    "accuracy4 = 1 - (np.size(np.where(dif != 0))/np.size(test_y))\n",
    "print(accuracy4)"
   ]
  },
  {
   "cell_type": "markdown",
   "metadata": {},
   "source": [
    "## 성능 결과 그래프"
   ]
  },
  {
   "cell_type": "code",
   "execution_count": 40,
   "metadata": {},
   "outputs": [
    {
     "data": {
      "image/png": "[encoded data removed]",
      "text/plain": [
       "<Figure size 432x288 with 1 Axes>"
      ]
     },
     "metadata": {
      "needs_background": "light"
     },
     "output_type": "display_data"
    }
   ],
   "source": [
    "import seaborn as sns\n",
    "list_ac = [accuracy1,accuracy2,accuracy3,accuracy4]\n",
    "list_us = ['neither','using only p-value','using only randomforest','using both']\n",
    "df_data = {'acc' : list_ac, 'use' : list_us}\n",
    "df_data = pd.DataFrame(df_data)\n",
    "ax = sns.barplot(x=df_data['acc'], y=df_data['use'])\n",
    "ax.set(xlabel='Accuracy', ylabel='Usage')\n",
    "plt.title('Accuracy measurement result according to the usage')\n",
    "plt.show()"
   ]
  },
  {
   "cell_type": "code",
   "execution_count": null,
   "metadata": {},
   "outputs": [],
   "source": []
  }
 ],
 "metadata": {
  "kernelspec": {
   "display_name": "Python 3",
   "language": "python",
   "name": "python3"
  },
  "language_info": {
   "codemirror_mode": {
    "name": "ipython",
    "version": 3
   },
   "file_extension": ".py",
   "mimetype": "text/x-python",
   "name": "python",
   "nbconvert_exporter": "python",
   "pygments_lexer": "ipython3",
   "version": "3.7.3"
  }
 },
 "nbformat": 4,
 "nbformat_minor": 2
}
