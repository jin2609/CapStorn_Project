{
 "cells": [
  {
   "cell_type": "code",
   "execution_count": 1,
   "metadata": {},
   "outputs": [],
   "source": [
    "import numpy as np\n",
    "import pandas as pd\n",
    "import matplotlib.pyplot as plt\n",
    "%matplotlib inline"
   ]
  },
  {
   "cell_type": "code",
   "execution_count": 2,
   "metadata": {},
   "outputs": [
    {
     "data": {
      "text/html": [
       "<div>\n",
       "<style scoped>\n",
       "    .dataframe tbody tr th:only-of-type {\n",
       "        vertical-align: middle;\n",
       "    }\n",
       "\n",
       "    .dataframe tbody tr th {\n",
       "        vertical-align: top;\n",
       "    }\n",
       "\n",
       "    .dataframe thead th {\n",
       "        text-align: right;\n",
       "    }\n",
       "</style>\n",
       "<table border=\"1\" class=\"dataframe\">\n",
       "  <thead>\n",
       "    <tr style=\"text-align: right;\">\n",
       "      <th></th>\n",
       "      <th>Bad</th>\n",
       "      <th>badCd</th>\n",
       "      <th>ptGroupNm</th>\n",
       "      <th>qabDscr</th>\n",
       "      <th>Year</th>\n",
       "      <th>Female</th>\n",
       "      <th>Edu</th>\n",
       "      <th>Skill</th>\n",
       "      <th>Hand</th>\n",
       "      <th>NumberofYear</th>\n",
       "      <th>Married</th>\n",
       "      <th>Chiled</th>\n",
       "      <th>Pregnancy</th>\n",
       "      <th>CommutingTime</th>\n",
       "      <th>Payment</th>\n",
       "      <th>Height</th>\n",
       "      <th>Weight</th>\n",
       "      <th>DutyHours</th>\n",
       "      <th>OverTimeWork</th>\n",
       "    </tr>\n",
       "  </thead>\n",
       "  <tbody>\n",
       "    <tr>\n",
       "      <th>406</th>\n",
       "      <td>1</td>\n",
       "      <td>C0109</td>\n",
       "      <td>MAIN</td>\n",
       "      <td>인슐레이션형상불량</td>\n",
       "      <td>22.0</td>\n",
       "      <td>1.0</td>\n",
       "      <td>1.0</td>\n",
       "      <td>2.0</td>\n",
       "      <td>1.0</td>\n",
       "      <td>4.0</td>\n",
       "      <td>1.0</td>\n",
       "      <td>1.0</td>\n",
       "      <td>0.0</td>\n",
       "      <td>0.0</td>\n",
       "      <td>3777100.0</td>\n",
       "      <td>150.0</td>\n",
       "      <td>42.0</td>\n",
       "      <td>224.0</td>\n",
       "      <td>0.0</td>\n",
       "    </tr>\n",
       "    <tr>\n",
       "      <th>407</th>\n",
       "      <td>0</td>\n",
       "      <td>C0109</td>\n",
       "      <td>MAIN</td>\n",
       "      <td>인슐레이션형상불량</td>\n",
       "      <td>22.0</td>\n",
       "      <td>1.0</td>\n",
       "      <td>1.0</td>\n",
       "      <td>2.0</td>\n",
       "      <td>1.0</td>\n",
       "      <td>4.0</td>\n",
       "      <td>1.0</td>\n",
       "      <td>1.0</td>\n",
       "      <td>0.0</td>\n",
       "      <td>0.0</td>\n",
       "      <td>3777100.0</td>\n",
       "      <td>150.0</td>\n",
       "      <td>42.0</td>\n",
       "      <td>224.0</td>\n",
       "      <td>0.0</td>\n",
       "    </tr>\n",
       "    <tr>\n",
       "      <th>408</th>\n",
       "      <td>0</td>\n",
       "      <td>C0109</td>\n",
       "      <td>MAIN</td>\n",
       "      <td>인슐레이션형상불량</td>\n",
       "      <td>33.0</td>\n",
       "      <td>1.0</td>\n",
       "      <td>0.0</td>\n",
       "      <td>2.0</td>\n",
       "      <td>1.0</td>\n",
       "      <td>4.0</td>\n",
       "      <td>1.0</td>\n",
       "      <td>1.0</td>\n",
       "      <td>0.0</td>\n",
       "      <td>0.0</td>\n",
       "      <td>3966000.0</td>\n",
       "      <td>156.0</td>\n",
       "      <td>48.0</td>\n",
       "      <td>216.0</td>\n",
       "      <td>0.0</td>\n",
       "    </tr>\n",
       "    <tr>\n",
       "      <th>409</th>\n",
       "      <td>0</td>\n",
       "      <td>C0109</td>\n",
       "      <td>MAIN</td>\n",
       "      <td>인슐레이션형상불량</td>\n",
       "      <td>33.0</td>\n",
       "      <td>1.0</td>\n",
       "      <td>0.0</td>\n",
       "      <td>2.0</td>\n",
       "      <td>1.0</td>\n",
       "      <td>4.0</td>\n",
       "      <td>1.0</td>\n",
       "      <td>1.0</td>\n",
       "      <td>0.0</td>\n",
       "      <td>0.0</td>\n",
       "      <td>3966000.0</td>\n",
       "      <td>156.0</td>\n",
       "      <td>48.0</td>\n",
       "      <td>216.0</td>\n",
       "      <td>0.0</td>\n",
       "    </tr>\n",
       "    <tr>\n",
       "      <th>410</th>\n",
       "      <td>0</td>\n",
       "      <td>C0109</td>\n",
       "      <td>MAIN</td>\n",
       "      <td>인슐레이션형상불량</td>\n",
       "      <td>33.0</td>\n",
       "      <td>1.0</td>\n",
       "      <td>0.0</td>\n",
       "      <td>2.0</td>\n",
       "      <td>1.0</td>\n",
       "      <td>4.0</td>\n",
       "      <td>1.0</td>\n",
       "      <td>1.0</td>\n",
       "      <td>0.0</td>\n",
       "      <td>0.0</td>\n",
       "      <td>3966000.0</td>\n",
       "      <td>156.0</td>\n",
       "      <td>48.0</td>\n",
       "      <td>216.0</td>\n",
       "      <td>0.0</td>\n",
       "    </tr>\n",
       "  </tbody>\n",
       "</table>\n",
       "</div>"
      ],
      "text/plain": [
       "     Bad  badCd ptGroupNm    qabDscr  Year  Female  Edu  Skill  Hand  \\\n",
       "406    1  C0109      MAIN  인슐레이션형상불량  22.0     1.0  1.0    2.0   1.0   \n",
       "407    0  C0109      MAIN  인슐레이션형상불량  22.0     1.0  1.0    2.0   1.0   \n",
       "408    0  C0109      MAIN  인슐레이션형상불량  33.0     1.0  0.0    2.0   1.0   \n",
       "409    0  C0109      MAIN  인슐레이션형상불량  33.0     1.0  0.0    2.0   1.0   \n",
       "410    0  C0109      MAIN  인슐레이션형상불량  33.0     1.0  0.0    2.0   1.0   \n",
       "\n",
       "     NumberofYear  Married  Chiled  Pregnancy  CommutingTime    Payment  \\\n",
       "406           4.0      1.0     1.0        0.0            0.0  3777100.0   \n",
       "407           4.0      1.0     1.0        0.0            0.0  3777100.0   \n",
       "408           4.0      1.0     1.0        0.0            0.0  3966000.0   \n",
       "409           4.0      1.0     1.0        0.0            0.0  3966000.0   \n",
       "410           4.0      1.0     1.0        0.0            0.0  3966000.0   \n",
       "\n",
       "     Height  Weight  DutyHours  OverTimeWork  \n",
       "406   150.0    42.0      224.0           0.0  \n",
       "407   150.0    42.0      224.0           0.0  \n",
       "408   156.0    48.0      216.0           0.0  \n",
       "409   156.0    48.0      216.0           0.0  \n",
       "410   156.0    48.0      216.0           0.0  "
      ]
     },
     "execution_count": 2,
     "metadata": {},
     "output_type": "execute_result"
    }
   ],
   "source": [
    "df = pd.read_csv('./data/process_data.csv')\n",
    "df = df[df['badCd'] == 'C0109']\n",
    "df = df[df['ptGroupNm'] == 'MAIN']\n",
    "df.head()"
   ]
  },
  {
   "cell_type": "code",
   "execution_count": 3,
   "metadata": {},
   "outputs": [],
   "source": [
    "del df['badCd']\n",
    "del df['ptGroupNm']\n",
    "del df['qabDscr']\n",
    "\n",
    "data = np.array(df)\n",
    "nvar = data.shape[1]\n",
    "datax = data[:,1:nvar]\n",
    "datay = data[:,0]"
   ]
  },
  {
   "cell_type": "markdown",
   "metadata": {},
   "source": [
    "## 상관계수 분석 결과"
   ]
  },
  {
   "cell_type": "code",
   "execution_count": 4,
   "metadata": {},
   "outputs": [
    {
     "name": "stderr",
     "output_type": "stream",
     "text": [
      "C:\\Users\\KimJinSeop\\Anaconda3\\lib\\site-packages\\ipykernel_launcher.py:2: FutureWarning: Method .as_matrix will be removed in a future version. Use .values instead.\n",
      "  \n"
     ]
    },
    {
     "data": {
      "image/png": "[encoded data removed]",
      "text/plain": [
       "<Figure size 1080x1440 with 256 Axes>"
      ]
     },
     "metadata": {
      "needs_background": "light"
     },
     "output_type": "display_data"
    }
   ],
   "source": [
    "axes = pd.plotting.scatter_matrix(df, figsize = (15,20), alpha = 0.5)\n",
    "corr = df.corr().as_matrix()\n",
    "for i,j in zip(*plt.np.triu_indices_from(axes, k=1)):\n",
    "    axes[i,j].annotate(\"%.3f\" %corr[i,j],(0.8, 0.8), xycoords = 'axes fraction', ha = 'center', va ='center')\n",
    "plt.show()"
   ]
  },
  {
   "cell_type": "code",
   "execution_count": 5,
   "metadata": {},
   "outputs": [],
   "source": [
    "from sklearn.model_selection import train_test_split\n",
    "train_x, test_x, train_y, test_y = train_test_split(datax, datay, test_size=0.3, random_state=500)"
   ]
  },
  {
   "cell_type": "code",
   "execution_count": 6,
   "metadata": {},
   "outputs": [],
   "source": [
    "from sklearn.preprocessing import MinMaxScaler\n",
    "scaler = MinMaxScaler()\n",
    "scaler.fit(train_x)\n",
    "train_x = scaler.transform(train_x)\n",
    "test_x = scaler.transform(test_x)"
   ]
  },
  {
   "cell_type": "markdown",
   "metadata": {},
   "source": [
    "## 분석결과 모두 사용하지 않는 경우"
   ]
  },
  {
   "cell_type": "code",
   "execution_count": 7,
   "metadata": {},
   "outputs": [],
   "source": [
    "from sklearn.naive_bayes import GaussianNB\n",
    "bayes = GaussianNB(priors=[0.59, 0.41])\n",
    "bayes.fit(train_x,train_y)\n",
    "predict = bayes.predict(test_x)"
   ]
  },
  {
   "cell_type": "code",
   "execution_count": 8,
   "metadata": {},
   "outputs": [
    {
     "name": "stdout",
     "output_type": "stream",
     "text": [
      "0.46335697399527187\n"
     ]
    }
   ],
   "source": [
    "dif = test_y - predict\n",
    "accuracy1 = 1 - (np.size(np.where(dif != 0))/np.size(test_y))\n",
    "print(accuracy1)"
   ]
  },
  {
   "cell_type": "markdown",
   "metadata": {},
   "source": [
    "## 로지스틱 회귀분석을 통한 p-Value만 고려하여 사용한 경우"
   ]
  },
  {
   "cell_type": "code",
   "execution_count": 9,
   "metadata": {},
   "outputs": [
    {
     "data": {
      "text/plain": [
       "Index(['Bad', 'Year', 'Female', 'Edu', 'Skill', 'Hand', 'NumberofYear',\n",
       "       'Married', 'Chiled', 'Pregnancy', 'CommutingTime', 'Payment', 'Height',\n",
       "       'Weight', 'DutyHours', 'OverTimeWork'],\n",
       "      dtype='object')"
      ]
     },
     "execution_count": 9,
     "metadata": {},
     "output_type": "execute_result"
    }
   ],
   "source": [
    "df.columns"
   ]
  },
  {
   "cell_type": "code",
   "execution_count": 10,
   "metadata": {},
   "outputs": [
    {
     "name": "stderr",
     "output_type": "stream",
     "text": [
      "C:\\Users\\KimJinSeop\\Anaconda3\\lib\\site-packages\\numpy\\core\\fromnumeric.py:2389: FutureWarning: Method .ptp is deprecated and will be removed in a future version. Use numpy.ptp instead.\n",
      "  return ptp(axis=axis, out=out, **kwargs)\n"
     ]
    },
    {
     "data": {
      "text/html": [
       "<table class=\"simpletable\">\n",
       "<caption>OLS Regression Results</caption>\n",
       "<tr>\n",
       "  <th>Dep. Variable:</th>            <td>y</td>        <th>  R-squared:         </th> <td>   0.021</td>\n",
       "</tr>\n",
       "<tr>\n",
       "  <th>Model:</th>                   <td>OLS</td>       <th>  Adj. R-squared:    </th> <td>   0.018</td>\n",
       "</tr>\n",
       "<tr>\n",
       "  <th>Method:</th>             <td>Least Squares</td>  <th>  F-statistic:       </th> <td>   7.847</td>\n",
       "</tr>\n",
       "<tr>\n",
       "  <th>Date:</th>             <td>Thu, 07 Nov 2019</td> <th>  Prob (F-statistic):</th> <td>8.55e-18</td>\n",
       "</tr>\n",
       "<tr>\n",
       "  <th>Time:</th>                 <td>00:30:42</td>     <th>  Log-Likelihood:    </th> <td>  2112.8</td>\n",
       "</tr>\n",
       "<tr>\n",
       "  <th>No. Observations:</th>      <td>  5637</td>      <th>  AIC:               </th> <td>  -4194.</td>\n",
       "</tr>\n",
       "<tr>\n",
       "  <th>Df Residuals:</th>          <td>  5621</td>      <th>  BIC:               </th> <td>  -4087.</td>\n",
       "</tr>\n",
       "<tr>\n",
       "  <th>Df Model:</th>              <td>    15</td>      <th>                     </th>     <td> </td>   \n",
       "</tr>\n",
       "<tr>\n",
       "  <th>Covariance Type:</th>      <td>nonrobust</td>    <th>                     </th>     <td> </td>   \n",
       "</tr>\n",
       "</table>\n",
       "<table class=\"simpletable\">\n",
       "<tr>\n",
       "        <td></td>           <th>coef</th>     <th>std err</th>      <th>t</th>      <th>P>|t|</th>  <th>[0.025</th>    <th>0.975]</th>  \n",
       "</tr>\n",
       "<tr>\n",
       "  <th>const</th>         <td>    0.9006</td> <td>    0.184</td> <td>    4.900</td> <td> 0.000</td> <td>    0.540</td> <td>    1.261</td>\n",
       "</tr>\n",
       "<tr>\n",
       "  <th>Year</th>          <td>    0.0025</td> <td>    0.001</td> <td>    3.932</td> <td> 0.000</td> <td>    0.001</td> <td>    0.004</td>\n",
       "</tr>\n",
       "<tr>\n",
       "  <th>Female</th>        <td>   -0.9570</td> <td>    0.168</td> <td>   -5.707</td> <td> 0.000</td> <td>   -1.286</td> <td>   -0.628</td>\n",
       "</tr>\n",
       "<tr>\n",
       "  <th>Edu</th>           <td>    0.0123</td> <td>    0.006</td> <td>    1.993</td> <td> 0.046</td> <td>    0.000</td> <td>    0.024</td>\n",
       "</tr>\n",
       "<tr>\n",
       "  <th>Skill</th>         <td>    0.0285</td> <td>    0.012</td> <td>    2.289</td> <td> 0.022</td> <td>    0.004</td> <td>    0.053</td>\n",
       "</tr>\n",
       "<tr>\n",
       "  <th>Hand</th>          <td>   -0.0161</td> <td>    0.017</td> <td>   -0.927</td> <td> 0.354</td> <td>   -0.050</td> <td>    0.018</td>\n",
       "</tr>\n",
       "<tr>\n",
       "  <th>NumberofYear</th>  <td>   -0.0105</td> <td>    0.006</td> <td>   -1.876</td> <td> 0.061</td> <td>   -0.021</td> <td>    0.000</td>\n",
       "</tr>\n",
       "<tr>\n",
       "  <th>Married</th>       <td>   -0.0263</td> <td>    0.014</td> <td>   -1.853</td> <td> 0.064</td> <td>   -0.054</td> <td>    0.002</td>\n",
       "</tr>\n",
       "<tr>\n",
       "  <th>Chiled</th>        <td>    0.0316</td> <td>    0.009</td> <td>    3.575</td> <td> 0.000</td> <td>    0.014</td> <td>    0.049</td>\n",
       "</tr>\n",
       "<tr>\n",
       "  <th>Pregnancy</th>     <td>    0.0431</td> <td>    0.013</td> <td>    3.209</td> <td> 0.001</td> <td>    0.017</td> <td>    0.069</td>\n",
       "</tr>\n",
       "<tr>\n",
       "  <th>CommutingTime</th> <td>    0.0805</td> <td>    0.014</td> <td>    5.832</td> <td> 0.000</td> <td>    0.053</td> <td>    0.108</td>\n",
       "</tr>\n",
       "<tr>\n",
       "  <th>Payment</th>       <td>-5.054e-09</td> <td> 6.84e-09</td> <td>   -0.738</td> <td> 0.460</td> <td>-1.85e-08</td> <td> 8.36e-09</td>\n",
       "</tr>\n",
       "<tr>\n",
       "  <th>Height</th>        <td>   -0.0003</td> <td>    0.000</td> <td>   -0.812</td> <td> 0.417</td> <td>   -0.001</td> <td>    0.000</td>\n",
       "</tr>\n",
       "<tr>\n",
       "  <th>Weight</th>        <td>    0.0011</td> <td>    0.001</td> <td>    2.273</td> <td> 0.023</td> <td>    0.000</td> <td>    0.002</td>\n",
       "</tr>\n",
       "<tr>\n",
       "  <th>DutyHours</th>     <td> 2.489e-05</td> <td> 7.75e-05</td> <td>    0.321</td> <td> 0.748</td> <td>   -0.000</td> <td>    0.000</td>\n",
       "</tr>\n",
       "<tr>\n",
       "  <th>OverTimeWork</th>  <td>   -0.0049</td> <td>    0.007</td> <td>   -0.667</td> <td> 0.505</td> <td>   -0.019</td> <td>    0.010</td>\n",
       "</tr>\n",
       "</table>\n",
       "<table class=\"simpletable\">\n",
       "<tr>\n",
       "  <th>Omnibus:</th>       <td>5869.889</td> <th>  Durbin-Watson:     </th>  <td>   1.456</td> \n",
       "</tr>\n",
       "<tr>\n",
       "  <th>Prob(Omnibus):</th>  <td> 0.000</td>  <th>  Jarque-Bera (JB):  </th> <td>223683.609</td>\n",
       "</tr>\n",
       "<tr>\n",
       "  <th>Skew:</th>           <td> 5.504</td>  <th>  Prob(JB):          </th>  <td>    0.00</td> \n",
       "</tr>\n",
       "<tr>\n",
       "  <th>Kurtosis:</th>       <td>31.830</td>  <th>  Cond. No.          </th>  <td>4.66e+08</td> \n",
       "</tr>\n",
       "</table><br/><br/>Warnings:<br/>[1] Standard Errors assume that the covariance matrix of the errors is correctly specified.<br/>[2] The condition number is large, 4.66e+08. This might indicate that there are<br/>strong multicollinearity or other numerical problems."
      ],
      "text/plain": [
       "<class 'statsmodels.iolib.summary.Summary'>\n",
       "\"\"\"\n",
       "                            OLS Regression Results                            \n",
       "==============================================================================\n",
       "Dep. Variable:                      y   R-squared:                       0.021\n",
       "Model:                            OLS   Adj. R-squared:                  0.018\n",
       "Method:                 Least Squares   F-statistic:                     7.847\n",
       "Date:                Thu, 07 Nov 2019   Prob (F-statistic):           8.55e-18\n",
       "Time:                        00:30:42   Log-Likelihood:                 2112.8\n",
       "No. Observations:                5637   AIC:                            -4194.\n",
       "Df Residuals:                    5621   BIC:                            -4087.\n",
       "Df Model:                          15                                         \n",
       "Covariance Type:            nonrobust                                         \n",
       "=================================================================================\n",
       "                    coef    std err          t      P>|t|      [0.025      0.975]\n",
       "---------------------------------------------------------------------------------\n",
       "const             0.9006      0.184      4.900      0.000       0.540       1.261\n",
       "Year              0.0025      0.001      3.932      0.000       0.001       0.004\n",
       "Female           -0.9570      0.168     -5.707      0.000      -1.286      -0.628\n",
       "Edu               0.0123      0.006      1.993      0.046       0.000       0.024\n",
       "Skill             0.0285      0.012      2.289      0.022       0.004       0.053\n",
       "Hand             -0.0161      0.017     -0.927      0.354      -0.050       0.018\n",
       "NumberofYear     -0.0105      0.006     -1.876      0.061      -0.021       0.000\n",
       "Married          -0.0263      0.014     -1.853      0.064      -0.054       0.002\n",
       "Chiled            0.0316      0.009      3.575      0.000       0.014       0.049\n",
       "Pregnancy         0.0431      0.013      3.209      0.001       0.017       0.069\n",
       "CommutingTime     0.0805      0.014      5.832      0.000       0.053       0.108\n",
       "Payment       -5.054e-09   6.84e-09     -0.738      0.460   -1.85e-08    8.36e-09\n",
       "Height           -0.0003      0.000     -0.812      0.417      -0.001       0.000\n",
       "Weight            0.0011      0.001      2.273      0.023       0.000       0.002\n",
       "DutyHours      2.489e-05   7.75e-05      0.321      0.748      -0.000       0.000\n",
       "OverTimeWork     -0.0049      0.007     -0.667      0.505      -0.019       0.010\n",
       "==============================================================================\n",
       "Omnibus:                     5869.889   Durbin-Watson:                   1.456\n",
       "Prob(Omnibus):                  0.000   Jarque-Bera (JB):           223683.609\n",
       "Skew:                           5.504   Prob(JB):                         0.00\n",
       "Kurtosis:                      31.830   Cond. No.                     4.66e+08\n",
       "==============================================================================\n",
       "\n",
       "Warnings:\n",
       "[1] Standard Errors assume that the covariance matrix of the errors is correctly specified.\n",
       "[2] The condition number is large, 4.66e+08. This might indicate that there are\n",
       "strong multicollinearity or other numerical problems.\n",
       "\"\"\""
      ]
     },
     "execution_count": 10,
     "metadata": {},
     "output_type": "execute_result"
    }
   ],
   "source": [
    "import statsmodels.api as sm\n",
    "x = df[['Year', 'Female', 'Edu', 'Skill', 'Hand', 'NumberofYear',\n",
    "       'Married', 'Chiled', 'Pregnancy', 'CommutingTime', 'Payment', 'Height',\n",
    "       'Weight', 'DutyHours', 'OverTimeWork']]\n",
    "x2 = sm.add_constant(x)\n",
    "model = sm.OLS(datay,x2)\n",
    "result = model.fit()\n",
    "result.summary()"
   ]
  },
  {
   "cell_type": "code",
   "execution_count": 11,
   "metadata": {},
   "outputs": [
    {
     "name": "stdout",
     "output_type": "stream",
     "text": [
      "'Year','Female','Edu','Skill','Chiled','Pregnancy','CommutingTime','Weight',\n"
     ]
    }
   ],
   "source": [
    "index = 0\n",
    "columes = \"\"\n",
    "for pval in result.pvalues:\n",
    "    if(index == 0):\n",
    "        index = index + 1\n",
    "        continue\n",
    "    if(pval < 0.05):\n",
    "        columes = columes + \"'\"+ x.columns[index-1] + \"',\"\n",
    "    index = index + 1\n",
    "print(columes)"
   ]
  },
  {
   "cell_type": "code",
   "execution_count": 12,
   "metadata": {},
   "outputs": [
    {
     "data": {
      "text/html": [
       "<div>\n",
       "<style scoped>\n",
       "    .dataframe tbody tr th:only-of-type {\n",
       "        vertical-align: middle;\n",
       "    }\n",
       "\n",
       "    .dataframe tbody tr th {\n",
       "        vertical-align: top;\n",
       "    }\n",
       "\n",
       "    .dataframe thead th {\n",
       "        text-align: right;\n",
       "    }\n",
       "</style>\n",
       "<table border=\"1\" class=\"dataframe\">\n",
       "  <thead>\n",
       "    <tr style=\"text-align: right;\">\n",
       "      <th></th>\n",
       "      <th>Bad</th>\n",
       "      <th>Year</th>\n",
       "      <th>Female</th>\n",
       "      <th>Edu</th>\n",
       "      <th>Skill</th>\n",
       "      <th>Chiled</th>\n",
       "      <th>Pregnancy</th>\n",
       "      <th>CommutingTime</th>\n",
       "      <th>Weight</th>\n",
       "    </tr>\n",
       "  </thead>\n",
       "  <tbody>\n",
       "    <tr>\n",
       "      <th>406</th>\n",
       "      <td>1</td>\n",
       "      <td>22.0</td>\n",
       "      <td>1.0</td>\n",
       "      <td>1.0</td>\n",
       "      <td>2.0</td>\n",
       "      <td>1.0</td>\n",
       "      <td>0.0</td>\n",
       "      <td>0.0</td>\n",
       "      <td>42.0</td>\n",
       "    </tr>\n",
       "    <tr>\n",
       "      <th>407</th>\n",
       "      <td>0</td>\n",
       "      <td>22.0</td>\n",
       "      <td>1.0</td>\n",
       "      <td>1.0</td>\n",
       "      <td>2.0</td>\n",
       "      <td>1.0</td>\n",
       "      <td>0.0</td>\n",
       "      <td>0.0</td>\n",
       "      <td>42.0</td>\n",
       "    </tr>\n",
       "    <tr>\n",
       "      <th>408</th>\n",
       "      <td>0</td>\n",
       "      <td>33.0</td>\n",
       "      <td>1.0</td>\n",
       "      <td>0.0</td>\n",
       "      <td>2.0</td>\n",
       "      <td>1.0</td>\n",
       "      <td>0.0</td>\n",
       "      <td>0.0</td>\n",
       "      <td>48.0</td>\n",
       "    </tr>\n",
       "    <tr>\n",
       "      <th>409</th>\n",
       "      <td>0</td>\n",
       "      <td>33.0</td>\n",
       "      <td>1.0</td>\n",
       "      <td>0.0</td>\n",
       "      <td>2.0</td>\n",
       "      <td>1.0</td>\n",
       "      <td>0.0</td>\n",
       "      <td>0.0</td>\n",
       "      <td>48.0</td>\n",
       "    </tr>\n",
       "    <tr>\n",
       "      <th>410</th>\n",
       "      <td>0</td>\n",
       "      <td>33.0</td>\n",
       "      <td>1.0</td>\n",
       "      <td>0.0</td>\n",
       "      <td>2.0</td>\n",
       "      <td>1.0</td>\n",
       "      <td>0.0</td>\n",
       "      <td>0.0</td>\n",
       "      <td>48.0</td>\n",
       "    </tr>\n",
       "  </tbody>\n",
       "</table>\n",
       "</div>"
      ],
      "text/plain": [
       "     Bad  Year  Female  Edu  Skill  Chiled  Pregnancy  CommutingTime  Weight\n",
       "406    1  22.0     1.0  1.0    2.0     1.0        0.0            0.0    42.0\n",
       "407    0  22.0     1.0  1.0    2.0     1.0        0.0            0.0    42.0\n",
       "408    0  33.0     1.0  0.0    2.0     1.0        0.0            0.0    48.0\n",
       "409    0  33.0     1.0  0.0    2.0     1.0        0.0            0.0    48.0\n",
       "410    0  33.0     1.0  0.0    2.0     1.0        0.0            0.0    48.0"
      ]
     },
     "execution_count": 12,
     "metadata": {},
     "output_type": "execute_result"
    }
   ],
   "source": [
    "da = df[['Bad','Year','Female','Edu','Skill','Chiled','Pregnancy','CommutingTime','Weight']]\n",
    "da.head()"
   ]
  },
  {
   "cell_type": "code",
   "execution_count": 13,
   "metadata": {},
   "outputs": [],
   "source": [
    "data = np.array(da)\n",
    "nvar = data.shape[1]\n",
    "datax = data[:,1:nvar]\n",
    "datay = data[:,0]"
   ]
  },
  {
   "cell_type": "code",
   "execution_count": 14,
   "metadata": {},
   "outputs": [],
   "source": [
    "from sklearn.model_selection import train_test_split\n",
    "train_x, test_x, train_y, test_y = train_test_split(datax, datay, test_size=0.3, random_state=500)"
   ]
  },
  {
   "cell_type": "code",
   "execution_count": 15,
   "metadata": {},
   "outputs": [],
   "source": [
    "from sklearn.preprocessing import MinMaxScaler\n",
    "scaler = MinMaxScaler()\n",
    "scaler.fit(train_x)\n",
    "train_x = scaler.transform(train_x)\n",
    "test_x = scaler.transform(test_x)"
   ]
  },
  {
   "cell_type": "code",
   "execution_count": 16,
   "metadata": {},
   "outputs": [],
   "source": [
    "from sklearn.naive_bayes import GaussianNB\n",
    "bayes = GaussianNB(priors=[0.59, 0.41])\n",
    "bayes.fit(train_x,train_y)\n",
    "predict = bayes.predict(test_x)"
   ]
  },
  {
   "cell_type": "code",
   "execution_count": 17,
   "metadata": {},
   "outputs": [
    {
     "name": "stdout",
     "output_type": "stream",
     "text": [
      "0.907210401891253\n"
     ]
    }
   ],
   "source": [
    "dif = test_y - predict\n",
    "accuracy2 = 1 - (np.size(np.where(dif != 0))/np.size(test_y))\n",
    "print(accuracy2)"
   ]
  },
  {
   "cell_type": "markdown",
   "metadata": {},
   "source": [
    "## RandomForest로 분석한 결과만 활용한 경우"
   ]
  },
  {
   "cell_type": "code",
   "execution_count": 18,
   "metadata": {},
   "outputs": [],
   "source": [
    "data = np.array(df)\n",
    "nvar = data.shape[1]\n",
    "datax = data[:,1:nvar]\n",
    "datay = data[:,0]"
   ]
  },
  {
   "cell_type": "code",
   "execution_count": 19,
   "metadata": {},
   "outputs": [],
   "source": [
    "from sklearn.model_selection import train_test_split\n",
    "train_x, test_x, train_y, test_y = train_test_split(datax, datay, test_size=0.3, random_state=500)"
   ]
  },
  {
   "cell_type": "code",
   "execution_count": 20,
   "metadata": {},
   "outputs": [],
   "source": [
    "from sklearn.preprocessing import MinMaxScaler\n",
    "scaler = MinMaxScaler()\n",
    "scaler.fit(train_x)\n",
    "train_x = scaler.transform(train_x)\n",
    "test_x = scaler.transform(test_x)"
   ]
  },
  {
   "cell_type": "code",
   "execution_count": 21,
   "metadata": {},
   "outputs": [
    {
     "data": {
      "text/plain": [
       "RandomForestClassifier(bootstrap=True, class_weight=None, criterion='gini',\n",
       "                       max_depth=None, max_features='auto', max_leaf_nodes=None,\n",
       "                       min_impurity_decrease=0.0, min_impurity_split=None,\n",
       "                       min_samples_leaf=1, min_samples_split=2,\n",
       "                       min_weight_fraction_leaf=0.0, n_estimators=50,\n",
       "                       n_jobs=None, oob_score=False, random_state=None,\n",
       "                       verbose=0, warm_start=False)"
      ]
     },
     "execution_count": 21,
     "metadata": {},
     "output_type": "execute_result"
    }
   ],
   "source": [
    "from sklearn.ensemble import RandomForestClassifier\n",
    "rf = RandomForestClassifier(n_estimators= 50)\n",
    "rf.fit(train_x, train_y)"
   ]
  },
  {
   "cell_type": "code",
   "execution_count": 22,
   "metadata": {},
   "outputs": [
    {
     "data": {
      "text/plain": [
       "Index(['Bad', 'Year', 'Female', 'Edu', 'Skill', 'Hand', 'NumberofYear',\n",
       "       'Married', 'Chiled', 'Pregnancy', 'CommutingTime', 'Payment', 'Height',\n",
       "       'Weight', 'DutyHours', 'OverTimeWork'],\n",
       "      dtype='object')"
      ]
     },
     "execution_count": 22,
     "metadata": {},
     "output_type": "execute_result"
    }
   ],
   "source": [
    "df.columns"
   ]
  },
  {
   "cell_type": "code",
   "execution_count": 23,
   "metadata": {},
   "outputs": [],
   "source": [
    "Importance = np.round(rf.feature_importances_,2)\n",
    "TrainColume = ('Year', 'Female', 'Edu', 'Skill', 'Hand', 'NumberofYear',\n",
    "       'Married', 'Chiled', 'Pregnancy', 'CommutingTime', 'Payment', 'Height',\n",
    "       'Weight', 'DutyHours', 'OverTimeWork')\n",
    "df_data ={'Imt' : Importance, 'Colume' : TrainColume}\n",
    "df_data = pd.DataFrame(df_data)"
   ]
  },
  {
   "cell_type": "code",
   "execution_count": 24,
   "metadata": {},
   "outputs": [
    {
     "data": {
      "image/png": "[encoded data removed]",
      "text/plain": [
       "<Figure size 432x288 with 1 Axes>"
      ]
     },
     "metadata": {
      "needs_background": "light"
     },
     "output_type": "display_data"
    }
   ],
   "source": [
    "import seaborn as sns\n",
    "ax = sns.barplot(x=df_data['Imt'], y=df_data['Colume'])\n",
    "ax.set(xlabel='Importance', ylabel='Variable')\n",
    "plt.title('importance by variable')\n",
    "plt.show()"
   ]
  },
  {
   "cell_type": "code",
   "execution_count": 25,
   "metadata": {},
   "outputs": [],
   "source": [
    "del df['Female']\n",
    "del df['Skill']"
   ]
  },
  {
   "cell_type": "code",
   "execution_count": 26,
   "metadata": {},
   "outputs": [],
   "source": [
    "data = np.array(df)\n",
    "nvar = data.shape[1]\n",
    "datax = data[:,1:nvar]\n",
    "datay = data[:,0]"
   ]
  },
  {
   "cell_type": "code",
   "execution_count": 27,
   "metadata": {},
   "outputs": [],
   "source": [
    "from sklearn.model_selection import train_test_split\n",
    "train_x, test_x, train_y, test_y = train_test_split(datax, datay, test_size=0.3, random_state=500)"
   ]
  },
  {
   "cell_type": "code",
   "execution_count": 28,
   "metadata": {},
   "outputs": [],
   "source": [
    "from sklearn.preprocessing import MinMaxScaler\n",
    "scaler = MinMaxScaler()\n",
    "scaler.fit(train_x)\n",
    "train_x = scaler.transform(train_x)\n",
    "test_x = scaler.transform(test_x)"
   ]
  },
  {
   "cell_type": "code",
   "execution_count": 29,
   "metadata": {},
   "outputs": [],
   "source": [
    "from sklearn.naive_bayes import GaussianNB\n",
    "bayes = GaussianNB(priors=[0.59, 0.41])\n",
    "bayes.fit(train_x,train_y)\n",
    "predict = bayes.predict(test_x)"
   ]
  },
  {
   "cell_type": "code",
   "execution_count": 30,
   "metadata": {},
   "outputs": [
    {
     "name": "stdout",
     "output_type": "stream",
     "text": [
      "0.4905437352245863\n"
     ]
    }
   ],
   "source": [
    "dif = test_y - predict\n",
    "accuracy3 = 1 - (np.size(np.where(dif != 0))/np.size(test_y))\n",
    "print(accuracy3)"
   ]
  },
  {
   "cell_type": "markdown",
   "metadata": {},
   "source": [
    "## 두가지 방법으로 분석한 결과를 모두 활용한 경우"
   ]
  },
  {
   "cell_type": "code",
   "execution_count": 31,
   "metadata": {},
   "outputs": [
    {
     "data": {
      "text/plain": [
       "Index(['Bad', 'Year', 'Edu', 'Hand', 'NumberofYear', 'Married', 'Chiled',\n",
       "       'Pregnancy', 'CommutingTime', 'Payment', 'Height', 'Weight',\n",
       "       'DutyHours', 'OverTimeWork'],\n",
       "      dtype='object')"
      ]
     },
     "execution_count": 31,
     "metadata": {},
     "output_type": "execute_result"
    }
   ],
   "source": [
    "df.columns"
   ]
  },
  {
   "cell_type": "code",
   "execution_count": 32,
   "metadata": {},
   "outputs": [
    {
     "name": "stderr",
     "output_type": "stream",
     "text": [
      "C:\\Users\\KimJinSeop\\Anaconda3\\lib\\site-packages\\numpy\\core\\fromnumeric.py:2389: FutureWarning: Method .ptp is deprecated and will be removed in a future version. Use numpy.ptp instead.\n",
      "  return ptp(axis=axis, out=out, **kwargs)\n"
     ]
    },
    {
     "data": {
      "text/html": [
       "<table class=\"simpletable\">\n",
       "<caption>OLS Regression Results</caption>\n",
       "<tr>\n",
       "  <th>Dep. Variable:</th>            <td>y</td>        <th>  R-squared:         </th> <td>   0.014</td>\n",
       "</tr>\n",
       "<tr>\n",
       "  <th>Model:</th>                   <td>OLS</td>       <th>  Adj. R-squared:    </th> <td>   0.011</td>\n",
       "</tr>\n",
       "<tr>\n",
       "  <th>Method:</th>             <td>Least Squares</td>  <th>  F-statistic:       </th> <td>   6.005</td>\n",
       "</tr>\n",
       "<tr>\n",
       "  <th>Date:</th>             <td>Thu, 07 Nov 2019</td> <th>  Prob (F-statistic):</th> <td>3.11e-11</td>\n",
       "</tr>\n",
       "<tr>\n",
       "  <th>Time:</th>                 <td>00:30:43</td>     <th>  Log-Likelihood:    </th> <td>  2093.2</td>\n",
       "</tr>\n",
       "<tr>\n",
       "  <th>No. Observations:</th>      <td>  5637</td>      <th>  AIC:               </th> <td>  -4158.</td>\n",
       "</tr>\n",
       "<tr>\n",
       "  <th>Df Residuals:</th>          <td>  5623</td>      <th>  BIC:               </th> <td>  -4066.</td>\n",
       "</tr>\n",
       "<tr>\n",
       "  <th>Df Model:</th>              <td>    13</td>      <th>                     </th>     <td> </td>   \n",
       "</tr>\n",
       "<tr>\n",
       "  <th>Covariance Type:</th>      <td>nonrobust</td>    <th>                     </th>     <td> </td>   \n",
       "</tr>\n",
       "</table>\n",
       "<table class=\"simpletable\">\n",
       "<tr>\n",
       "        <td></td>           <th>coef</th>     <th>std err</th>      <th>t</th>      <th>P>|t|</th>  <th>[0.025</th>    <th>0.975]</th>  \n",
       "</tr>\n",
       "<tr>\n",
       "  <th>const</th>         <td>   -0.0065</td> <td>    0.063</td> <td>   -0.103</td> <td> 0.918</td> <td>   -0.130</td> <td>    0.117</td>\n",
       "</tr>\n",
       "<tr>\n",
       "  <th>Year</th>          <td>    0.0021</td> <td>    0.001</td> <td>    3.426</td> <td> 0.001</td> <td>    0.001</td> <td>    0.003</td>\n",
       "</tr>\n",
       "<tr>\n",
       "  <th>Edu</th>           <td>    0.0108</td> <td>    0.006</td> <td>    1.761</td> <td> 0.078</td> <td>   -0.001</td> <td>    0.023</td>\n",
       "</tr>\n",
       "<tr>\n",
       "  <th>Hand</th>          <td>   -0.0200</td> <td>    0.017</td> <td>   -1.160</td> <td> 0.246</td> <td>   -0.054</td> <td>    0.014</td>\n",
       "</tr>\n",
       "<tr>\n",
       "  <th>NumberofYear</th>  <td>   -0.0036</td> <td>    0.004</td> <td>   -0.836</td> <td> 0.403</td> <td>   -0.012</td> <td>    0.005</td>\n",
       "</tr>\n",
       "<tr>\n",
       "  <th>Married</th>       <td>   -0.0310</td> <td>    0.014</td> <td>   -2.176</td> <td> 0.030</td> <td>   -0.059</td> <td>   -0.003</td>\n",
       "</tr>\n",
       "<tr>\n",
       "  <th>Chiled</th>        <td>    0.0311</td> <td>    0.009</td> <td>    3.524</td> <td> 0.000</td> <td>    0.014</td> <td>    0.048</td>\n",
       "</tr>\n",
       "<tr>\n",
       "  <th>Pregnancy</th>     <td>    0.0410</td> <td>    0.013</td> <td>    3.054</td> <td> 0.002</td> <td>    0.015</td> <td>    0.067</td>\n",
       "</tr>\n",
       "<tr>\n",
       "  <th>CommutingTime</th> <td>    0.0819</td> <td>    0.014</td> <td>    5.918</td> <td> 0.000</td> <td>    0.055</td> <td>    0.109</td>\n",
       "</tr>\n",
       "<tr>\n",
       "  <th>Payment</th>       <td> -9.59e-09</td> <td> 6.36e-09</td> <td>   -1.508</td> <td> 0.132</td> <td>-2.21e-08</td> <td> 2.87e-09</td>\n",
       "</tr>\n",
       "<tr>\n",
       "  <th>Height</th>        <td>   -0.0002</td> <td>    0.000</td> <td>   -0.463</td> <td> 0.643</td> <td>   -0.001</td> <td>    0.001</td>\n",
       "</tr>\n",
       "<tr>\n",
       "  <th>Weight</th>        <td>    0.0009</td> <td>    0.000</td> <td>    1.977</td> <td> 0.048</td> <td> 7.99e-06</td> <td>    0.002</td>\n",
       "</tr>\n",
       "<tr>\n",
       "  <th>DutyHours</th>     <td> 6.725e-05</td> <td> 7.64e-05</td> <td>    0.880</td> <td> 0.379</td> <td>-8.26e-05</td> <td>    0.000</td>\n",
       "</tr>\n",
       "<tr>\n",
       "  <th>OverTimeWork</th>  <td>   -0.0037</td> <td>    0.007</td> <td>   -0.502</td> <td> 0.616</td> <td>   -0.018</td> <td>    0.011</td>\n",
       "</tr>\n",
       "</table>\n",
       "<table class=\"simpletable\">\n",
       "<tr>\n",
       "  <th>Omnibus:</th>       <td>5861.223</td> <th>  Durbin-Watson:     </th>  <td>   1.461</td> \n",
       "</tr>\n",
       "<tr>\n",
       "  <th>Prob(Omnibus):</th>  <td> 0.000</td>  <th>  Jarque-Bera (JB):  </th> <td>221619.100</td>\n",
       "</tr>\n",
       "<tr>\n",
       "  <th>Skew:</th>           <td> 5.495</td>  <th>  Prob(JB):          </th>  <td>    0.00</td> \n",
       "</tr>\n",
       "<tr>\n",
       "  <th>Kurtosis:</th>       <td>31.685</td>  <th>  Cond. No.          </th>  <td>1.20e+08</td> \n",
       "</tr>\n",
       "</table><br/><br/>Warnings:<br/>[1] Standard Errors assume that the covariance matrix of the errors is correctly specified.<br/>[2] The condition number is large, 1.2e+08. This might indicate that there are<br/>strong multicollinearity or other numerical problems."
      ],
      "text/plain": [
       "<class 'statsmodels.iolib.summary.Summary'>\n",
       "\"\"\"\n",
       "                            OLS Regression Results                            \n",
       "==============================================================================\n",
       "Dep. Variable:                      y   R-squared:                       0.014\n",
       "Model:                            OLS   Adj. R-squared:                  0.011\n",
       "Method:                 Least Squares   F-statistic:                     6.005\n",
       "Date:                Thu, 07 Nov 2019   Prob (F-statistic):           3.11e-11\n",
       "Time:                        00:30:43   Log-Likelihood:                 2093.2\n",
       "No. Observations:                5637   AIC:                            -4158.\n",
       "Df Residuals:                    5623   BIC:                            -4066.\n",
       "Df Model:                          13                                         \n",
       "Covariance Type:            nonrobust                                         \n",
       "=================================================================================\n",
       "                    coef    std err          t      P>|t|      [0.025      0.975]\n",
       "---------------------------------------------------------------------------------\n",
       "const            -0.0065      0.063     -0.103      0.918      -0.130       0.117\n",
       "Year              0.0021      0.001      3.426      0.001       0.001       0.003\n",
       "Edu               0.0108      0.006      1.761      0.078      -0.001       0.023\n",
       "Hand             -0.0200      0.017     -1.160      0.246      -0.054       0.014\n",
       "NumberofYear     -0.0036      0.004     -0.836      0.403      -0.012       0.005\n",
       "Married          -0.0310      0.014     -2.176      0.030      -0.059      -0.003\n",
       "Chiled            0.0311      0.009      3.524      0.000       0.014       0.048\n",
       "Pregnancy         0.0410      0.013      3.054      0.002       0.015       0.067\n",
       "CommutingTime     0.0819      0.014      5.918      0.000       0.055       0.109\n",
       "Payment        -9.59e-09   6.36e-09     -1.508      0.132   -2.21e-08    2.87e-09\n",
       "Height           -0.0002      0.000     -0.463      0.643      -0.001       0.001\n",
       "Weight            0.0009      0.000      1.977      0.048    7.99e-06       0.002\n",
       "DutyHours      6.725e-05   7.64e-05      0.880      0.379   -8.26e-05       0.000\n",
       "OverTimeWork     -0.0037      0.007     -0.502      0.616      -0.018       0.011\n",
       "==============================================================================\n",
       "Omnibus:                     5861.223   Durbin-Watson:                   1.461\n",
       "Prob(Omnibus):                  0.000   Jarque-Bera (JB):           221619.100\n",
       "Skew:                           5.495   Prob(JB):                         0.00\n",
       "Kurtosis:                      31.685   Cond. No.                     1.20e+08\n",
       "==============================================================================\n",
       "\n",
       "Warnings:\n",
       "[1] Standard Errors assume that the covariance matrix of the errors is correctly specified.\n",
       "[2] The condition number is large, 1.2e+08. This might indicate that there are\n",
       "strong multicollinearity or other numerical problems.\n",
       "\"\"\""
      ]
     },
     "execution_count": 32,
     "metadata": {},
     "output_type": "execute_result"
    }
   ],
   "source": [
    "import statsmodels.api as sm\n",
    "x = df[['Year', 'Edu', 'Hand', 'NumberofYear', 'Married', 'Chiled',\n",
    "       'Pregnancy', 'CommutingTime', 'Payment', 'Height', 'Weight',\n",
    "       'DutyHours', 'OverTimeWork']]\n",
    "x2 = sm.add_constant(x)\n",
    "model = sm.OLS(datay,x2)\n",
    "result = model.fit()\n",
    "result.summary()"
   ]
  },
  {
   "cell_type": "code",
   "execution_count": 33,
   "metadata": {},
   "outputs": [
    {
     "name": "stdout",
     "output_type": "stream",
     "text": [
      "'Year','Married','Chiled','Pregnancy','CommutingTime','Weight',\n"
     ]
    }
   ],
   "source": [
    "index = 0\n",
    "columes = \"\"\n",
    "for pval in result.pvalues:\n",
    "    if(index == 0):\n",
    "        index = index + 1\n",
    "        continue\n",
    "    if(pval < 0.05):\n",
    "        columes = columes + \"'\"+ x.columns[index-1] + \"',\"\n",
    "    index = index + 1\n",
    "print(columes)"
   ]
  },
  {
   "cell_type": "code",
   "execution_count": 34,
   "metadata": {},
   "outputs": [
    {
     "data": {
      "text/html": [
       "<div>\n",
       "<style scoped>\n",
       "    .dataframe tbody tr th:only-of-type {\n",
       "        vertical-align: middle;\n",
       "    }\n",
       "\n",
       "    .dataframe tbody tr th {\n",
       "        vertical-align: top;\n",
       "    }\n",
       "\n",
       "    .dataframe thead th {\n",
       "        text-align: right;\n",
       "    }\n",
       "</style>\n",
       "<table border=\"1\" class=\"dataframe\">\n",
       "  <thead>\n",
       "    <tr style=\"text-align: right;\">\n",
       "      <th></th>\n",
       "      <th>Bad</th>\n",
       "      <th>Year</th>\n",
       "      <th>Married</th>\n",
       "      <th>Chiled</th>\n",
       "      <th>Pregnancy</th>\n",
       "      <th>CommutingTime</th>\n",
       "      <th>Weight</th>\n",
       "    </tr>\n",
       "  </thead>\n",
       "  <tbody>\n",
       "    <tr>\n",
       "      <th>406</th>\n",
       "      <td>1</td>\n",
       "      <td>22.0</td>\n",
       "      <td>1.0</td>\n",
       "      <td>1.0</td>\n",
       "      <td>0.0</td>\n",
       "      <td>0.0</td>\n",
       "      <td>42.0</td>\n",
       "    </tr>\n",
       "    <tr>\n",
       "      <th>407</th>\n",
       "      <td>0</td>\n",
       "      <td>22.0</td>\n",
       "      <td>1.0</td>\n",
       "      <td>1.0</td>\n",
       "      <td>0.0</td>\n",
       "      <td>0.0</td>\n",
       "      <td>42.0</td>\n",
       "    </tr>\n",
       "    <tr>\n",
       "      <th>408</th>\n",
       "      <td>0</td>\n",
       "      <td>33.0</td>\n",
       "      <td>1.0</td>\n",
       "      <td>1.0</td>\n",
       "      <td>0.0</td>\n",
       "      <td>0.0</td>\n",
       "      <td>48.0</td>\n",
       "    </tr>\n",
       "    <tr>\n",
       "      <th>409</th>\n",
       "      <td>0</td>\n",
       "      <td>33.0</td>\n",
       "      <td>1.0</td>\n",
       "      <td>1.0</td>\n",
       "      <td>0.0</td>\n",
       "      <td>0.0</td>\n",
       "      <td>48.0</td>\n",
       "    </tr>\n",
       "    <tr>\n",
       "      <th>410</th>\n",
       "      <td>0</td>\n",
       "      <td>33.0</td>\n",
       "      <td>1.0</td>\n",
       "      <td>1.0</td>\n",
       "      <td>0.0</td>\n",
       "      <td>0.0</td>\n",
       "      <td>48.0</td>\n",
       "    </tr>\n",
       "  </tbody>\n",
       "</table>\n",
       "</div>"
      ],
      "text/plain": [
       "     Bad  Year  Married  Chiled  Pregnancy  CommutingTime  Weight\n",
       "406    1  22.0      1.0     1.0        0.0            0.0    42.0\n",
       "407    0  22.0      1.0     1.0        0.0            0.0    42.0\n",
       "408    0  33.0      1.0     1.0        0.0            0.0    48.0\n",
       "409    0  33.0      1.0     1.0        0.0            0.0    48.0\n",
       "410    0  33.0      1.0     1.0        0.0            0.0    48.0"
      ]
     },
     "execution_count": 34,
     "metadata": {},
     "output_type": "execute_result"
    }
   ],
   "source": [
    "df = df[['Bad','Year','Married','Chiled','Pregnancy','CommutingTime','Weight']]\n",
    "df.head()"
   ]
  },
  {
   "cell_type": "code",
   "execution_count": 35,
   "metadata": {},
   "outputs": [],
   "source": [
    "data = np.array(df)\n",
    "nvar = data.shape[1]\n",
    "datax = data[:,1:nvar]\n",
    "datay = data[:,0]"
   ]
  },
  {
   "cell_type": "code",
   "execution_count": 36,
   "metadata": {},
   "outputs": [],
   "source": [
    "from sklearn.model_selection import train_test_split\n",
    "train_x, test_x, train_y, test_y = train_test_split(datax, datay, test_size=0.3, random_state=500)"
   ]
  },
  {
   "cell_type": "code",
   "execution_count": 37,
   "metadata": {},
   "outputs": [],
   "source": [
    "from sklearn.preprocessing import MinMaxScaler\n",
    "scaler = MinMaxScaler()\n",
    "scaler.fit(train_x)\n",
    "train_x = scaler.transform(train_x)\n",
    "test_x = scaler.transform(test_x)"
   ]
  },
  {
   "cell_type": "code",
   "execution_count": 38,
   "metadata": {},
   "outputs": [],
   "source": [
    "from sklearn.naive_bayes import GaussianNB\n",
    "bayes = GaussianNB(priors=[0.59, 0.41])\n",
    "bayes.fit(train_x,train_y)\n",
    "predict = bayes.predict(test_x)"
   ]
  },
  {
   "cell_type": "code",
   "execution_count": 39,
   "metadata": {},
   "outputs": [
    {
     "name": "stdout",
     "output_type": "stream",
     "text": [
      "0.8729314420803782\n"
     ]
    }
   ],
   "source": [
    "# prior가 동일한 경우\n",
    "dif = test_y - predict\n",
    "accuracy4 = 1 - (np.size(np.where(dif != 0))/np.size(test_y))\n",
    "print(accuracy4)"
   ]
  },
  {
   "cell_type": "markdown",
   "metadata": {},
   "source": [
    "## 성능 결과 그래프"
   ]
  },
  {
   "cell_type": "code",
   "execution_count": 40,
   "metadata": {},
   "outputs": [
    {
     "data": {
      "image/png": "[encoded data removed]",
      "text/plain": [
       "<Figure size 432x288 with 1 Axes>"
      ]
     },
     "metadata": {
      "needs_background": "light"
     },
     "output_type": "display_data"
    }
   ],
   "source": [
    "import seaborn as sns\n",
    "list_ac = [accuracy1,accuracy2,accuracy3,accuracy4]\n",
    "list_us = ['neither','using only p-value','using only randomforest','using both']\n",
    "df_data = {'acc' : list_ac, 'use' : list_us}\n",
    "df_data = pd.DataFrame(df_data)\n",
    "ax = sns.barplot(x=df_data['acc'], y=df_data['use'])\n",
    "ax.set(xlabel='Accuracy', ylabel='Usage')\n",
    "plt.title('Accuracy measurement result according to the usage')\n",
    "plt.show()"
   ]
  }
 ],
 "metadata": {
  "kernelspec": {
   "display_name": "Python 3",
   "language": "python",
   "name": "python3"
  },
  "language_info": {
   "codemirror_mode": {
    "name": "ipython",
    "version": 3
   },
   "file_extension": ".py",
   "mimetype": "text/x-python",
   "name": "python",
   "nbconvert_exporter": "python",
   "pygments_lexer": "ipython3",
   "version": "3.7.3"
  }
 },
 "nbformat": 4,
 "nbformat_minor": 2
}
