{
 "cells": [
  {
   "cell_type": "code",
   "execution_count": 1,
   "metadata": {},
   "outputs": [],
   "source": [
    "import numpy as np\n",
    "import pandas as pd\n",
    "import matplotlib.pyplot as plt\n",
    "%matplotlib inline"
   ]
  },
  {
   "cell_type": "code",
   "execution_count": 2,
   "metadata": {},
   "outputs": [
    {
     "data": {
      "text/html": [
       "<div>\n",
       "<style scoped>\n",
       "    .dataframe tbody tr th:only-of-type {\n",
       "        vertical-align: middle;\n",
       "    }\n",
       "\n",
       "    .dataframe tbody tr th {\n",
       "        vertical-align: top;\n",
       "    }\n",
       "\n",
       "    .dataframe thead th {\n",
       "        text-align: right;\n",
       "    }\n",
       "</style>\n",
       "<table border=\"1\" class=\"dataframe\">\n",
       "  <thead>\n",
       "    <tr style=\"text-align: right;\">\n",
       "      <th></th>\n",
       "      <th>Bad</th>\n",
       "      <th>badCd</th>\n",
       "      <th>ptGroupNm</th>\n",
       "      <th>qabDscr</th>\n",
       "      <th>Year</th>\n",
       "      <th>Female</th>\n",
       "      <th>Edu</th>\n",
       "      <th>Skill</th>\n",
       "      <th>Hand</th>\n",
       "      <th>NumberofYear</th>\n",
       "      <th>Married</th>\n",
       "      <th>Chiled</th>\n",
       "      <th>Pregnancy</th>\n",
       "      <th>CommutingTime</th>\n",
       "      <th>Payment</th>\n",
       "      <th>Height</th>\n",
       "      <th>Weight</th>\n",
       "      <th>DutyHours</th>\n",
       "      <th>OverTimeWork</th>\n",
       "    </tr>\n",
       "  </thead>\n",
       "  <tbody>\n",
       "    <tr>\n",
       "      <th>113</th>\n",
       "      <td>1</td>\n",
       "      <td>C0109</td>\n",
       "      <td>FRDR_DRI</td>\n",
       "      <td>인슐레이션형상불량</td>\n",
       "      <td>28.0</td>\n",
       "      <td>1.0</td>\n",
       "      <td>1.0</td>\n",
       "      <td>2.0</td>\n",
       "      <td>1.0</td>\n",
       "      <td>3.0</td>\n",
       "      <td>1.0</td>\n",
       "      <td>1.0</td>\n",
       "      <td>0.0</td>\n",
       "      <td>0.0</td>\n",
       "      <td>3777100.0</td>\n",
       "      <td>162.0</td>\n",
       "      <td>48.0</td>\n",
       "      <td>216.0</td>\n",
       "      <td>0.0</td>\n",
       "    </tr>\n",
       "    <tr>\n",
       "      <th>114</th>\n",
       "      <td>1</td>\n",
       "      <td>C0109</td>\n",
       "      <td>FRDR_DRI</td>\n",
       "      <td>인슐레이션형상불량</td>\n",
       "      <td>22.0</td>\n",
       "      <td>1.0</td>\n",
       "      <td>1.0</td>\n",
       "      <td>2.0</td>\n",
       "      <td>1.0</td>\n",
       "      <td>4.0</td>\n",
       "      <td>0.0</td>\n",
       "      <td>0.0</td>\n",
       "      <td>0.0</td>\n",
       "      <td>0.0</td>\n",
       "      <td>3966000.0</td>\n",
       "      <td>160.0</td>\n",
       "      <td>43.0</td>\n",
       "      <td>216.0</td>\n",
       "      <td>0.0</td>\n",
       "    </tr>\n",
       "    <tr>\n",
       "      <th>115</th>\n",
       "      <td>0</td>\n",
       "      <td>C0109</td>\n",
       "      <td>FRDR_DRI</td>\n",
       "      <td>인슐레이션형상불량</td>\n",
       "      <td>34.0</td>\n",
       "      <td>1.0</td>\n",
       "      <td>1.0</td>\n",
       "      <td>1.0</td>\n",
       "      <td>1.0</td>\n",
       "      <td>5.0</td>\n",
       "      <td>1.0</td>\n",
       "      <td>1.0</td>\n",
       "      <td>0.0</td>\n",
       "      <td>0.0</td>\n",
       "      <td>4591000.0</td>\n",
       "      <td>160.0</td>\n",
       "      <td>58.0</td>\n",
       "      <td>216.0</td>\n",
       "      <td>0.0</td>\n",
       "    </tr>\n",
       "    <tr>\n",
       "      <th>116</th>\n",
       "      <td>0</td>\n",
       "      <td>C0109</td>\n",
       "      <td>FRDR_DRI</td>\n",
       "      <td>인슐레이션형상불량</td>\n",
       "      <td>22.0</td>\n",
       "      <td>1.0</td>\n",
       "      <td>1.0</td>\n",
       "      <td>2.0</td>\n",
       "      <td>1.0</td>\n",
       "      <td>4.0</td>\n",
       "      <td>0.0</td>\n",
       "      <td>0.0</td>\n",
       "      <td>0.0</td>\n",
       "      <td>0.0</td>\n",
       "      <td>3966000.0</td>\n",
       "      <td>160.0</td>\n",
       "      <td>43.0</td>\n",
       "      <td>216.0</td>\n",
       "      <td>0.0</td>\n",
       "    </tr>\n",
       "    <tr>\n",
       "      <th>117</th>\n",
       "      <td>0</td>\n",
       "      <td>C0109</td>\n",
       "      <td>FRDR_DRI</td>\n",
       "      <td>인슐레이션형상불량</td>\n",
       "      <td>22.0</td>\n",
       "      <td>1.0</td>\n",
       "      <td>1.0</td>\n",
       "      <td>2.0</td>\n",
       "      <td>1.0</td>\n",
       "      <td>4.0</td>\n",
       "      <td>1.0</td>\n",
       "      <td>0.0</td>\n",
       "      <td>0.0</td>\n",
       "      <td>0.0</td>\n",
       "      <td>3777100.0</td>\n",
       "      <td>158.0</td>\n",
       "      <td>43.0</td>\n",
       "      <td>224.0</td>\n",
       "      <td>0.0</td>\n",
       "    </tr>\n",
       "  </tbody>\n",
       "</table>\n",
       "</div>"
      ],
      "text/plain": [
       "     Bad  badCd ptGroupNm    qabDscr  Year  Female  Edu  Skill  Hand  \\\n",
       "113    1  C0109  FRDR_DRI  인슐레이션형상불량  28.0     1.0  1.0    2.0   1.0   \n",
       "114    1  C0109  FRDR_DRI  인슐레이션형상불량  22.0     1.0  1.0    2.0   1.0   \n",
       "115    0  C0109  FRDR_DRI  인슐레이션형상불량  34.0     1.0  1.0    1.0   1.0   \n",
       "116    0  C0109  FRDR_DRI  인슐레이션형상불량  22.0     1.0  1.0    2.0   1.0   \n",
       "117    0  C0109  FRDR_DRI  인슐레이션형상불량  22.0     1.0  1.0    2.0   1.0   \n",
       "\n",
       "     NumberofYear  Married  Chiled  Pregnancy  CommutingTime    Payment  \\\n",
       "113           3.0      1.0     1.0        0.0            0.0  3777100.0   \n",
       "114           4.0      0.0     0.0        0.0            0.0  3966000.0   \n",
       "115           5.0      1.0     1.0        0.0            0.0  4591000.0   \n",
       "116           4.0      0.0     0.0        0.0            0.0  3966000.0   \n",
       "117           4.0      1.0     0.0        0.0            0.0  3777100.0   \n",
       "\n",
       "     Height  Weight  DutyHours  OverTimeWork  \n",
       "113   162.0    48.0      216.0           0.0  \n",
       "114   160.0    43.0      216.0           0.0  \n",
       "115   160.0    58.0      216.0           0.0  \n",
       "116   160.0    43.0      216.0           0.0  \n",
       "117   158.0    43.0      224.0           0.0  "
      ]
     },
     "execution_count": 2,
     "metadata": {},
     "output_type": "execute_result"
    }
   ],
   "source": [
    "df = pd.read_csv('./data/process_data.csv')\n",
    "df = df[df['badCd'] == 'C0109']\n",
    "df.head()"
   ]
  },
  {
   "cell_type": "code",
   "execution_count": 3,
   "metadata": {},
   "outputs": [],
   "source": [
    "del df['badCd']\n",
    "del df['ptGroupNm']\n",
    "del df['qabDscr']\n",
    "\n",
    "data = np.array(df)\n",
    "nvar = data.shape[1]\n",
    "datax = data[:,1:nvar]\n",
    "datay = data[:,0]"
   ]
  },
  {
   "cell_type": "markdown",
   "metadata": {},
   "source": [
    "## 상관계수 분석 결과"
   ]
  },
  {
   "cell_type": "code",
   "execution_count": 4,
   "metadata": {},
   "outputs": [
    {
     "name": "stderr",
     "output_type": "stream",
     "text": [
      "C:\\Users\\KimJinSeop\\Anaconda3\\lib\\site-packages\\ipykernel_launcher.py:2: FutureWarning: Method .as_matrix will be removed in a future version. Use .values instead.\n",
      "  \n"
     ]
    },
    {
     "data": {
      "image/png": "[encoded data removed]",
      "text/plain": [
       "<Figure size 1080x1440 with 256 Axes>"
      ]
     },
     "metadata": {
      "needs_background": "light"
     },
     "output_type": "display_data"
    }
   ],
   "source": [
    "axes = pd.plotting.scatter_matrix(df, figsize = (15,20), alpha = 0.5)\n",
    "corr = df.corr().as_matrix()\n",
    "for i,j in zip(*plt.np.triu_indices_from(axes, k=1)):\n",
    "    axes[i,j].annotate(\"%.3f\" %corr[i,j],(0.8, 0.8), xycoords = 'axes fraction', ha = 'center', va ='center')\n",
    "plt.show()"
   ]
  },
  {
   "cell_type": "code",
   "execution_count": 5,
   "metadata": {},
   "outputs": [],
   "source": [
    "from sklearn.model_selection import train_test_split\n",
    "train_x, test_x, train_y, test_y = train_test_split(datax, datay, test_size=0.3, random_state=500)"
   ]
  },
  {
   "cell_type": "code",
   "execution_count": 6,
   "metadata": {},
   "outputs": [],
   "source": [
    "from sklearn.preprocessing import MinMaxScaler\n",
    "scaler = MinMaxScaler()\n",
    "scaler.fit(train_x)\n",
    "train_x = scaler.transform(train_x)\n",
    "test_x = scaler.transform(test_x)"
   ]
  },
  {
   "cell_type": "markdown",
   "metadata": {},
   "source": [
    "## 분석결과 모두 사용하지 않는 경우"
   ]
  },
  {
   "cell_type": "code",
   "execution_count": 7,
   "metadata": {},
   "outputs": [],
   "source": [
    "from sklearn.naive_bayes import GaussianNB\n",
    "bayes = GaussianNB(priors=[0.58, 0.42])\n",
    "bayes.fit(train_x,train_y)\n",
    "predict = bayes.predict(test_x)"
   ]
  },
  {
   "cell_type": "code",
   "execution_count": 8,
   "metadata": {},
   "outputs": [
    {
     "name": "stdout",
     "output_type": "stream",
     "text": [
      "0.37892129884424874\n"
     ]
    }
   ],
   "source": [
    "dif = test_y - predict\n",
    "accuracy1 = 1 - (np.size(np.where(dif != 0))/np.size(test_y))\n",
    "print(accuracy1)"
   ]
  },
  {
   "cell_type": "markdown",
   "metadata": {},
   "source": [
    "## 로지스틱 회귀분석을 통한 p-Value만 고려하여 사용한 경우"
   ]
  },
  {
   "cell_type": "code",
   "execution_count": 9,
   "metadata": {},
   "outputs": [
    {
     "data": {
      "text/plain": [
       "Index(['Bad', 'Year', 'Female', 'Edu', 'Skill', 'Hand', 'NumberofYear',\n",
       "       'Married', 'Chiled', 'Pregnancy', 'CommutingTime', 'Payment', 'Height',\n",
       "       'Weight', 'DutyHours', 'OverTimeWork'],\n",
       "      dtype='object')"
      ]
     },
     "execution_count": 9,
     "metadata": {},
     "output_type": "execute_result"
    }
   ],
   "source": [
    "df.columns"
   ]
  },
  {
   "cell_type": "code",
   "execution_count": 10,
   "metadata": {},
   "outputs": [
    {
     "name": "stderr",
     "output_type": "stream",
     "text": [
      "C:\\Users\\KimJinSeop\\Anaconda3\\lib\\site-packages\\numpy\\core\\fromnumeric.py:2389: FutureWarning: Method .ptp is deprecated and will be removed in a future version. Use numpy.ptp instead.\n",
      "  return ptp(axis=axis, out=out, **kwargs)\n"
     ]
    },
    {
     "data": {
      "text/html": [
       "<table class=\"simpletable\">\n",
       "<caption>OLS Regression Results</caption>\n",
       "<tr>\n",
       "  <th>Dep. Variable:</th>            <td>y</td>        <th>  R-squared:         </th> <td>   0.015</td>\n",
       "</tr>\n",
       "<tr>\n",
       "  <th>Model:</th>                   <td>OLS</td>       <th>  Adj. R-squared:    </th> <td>   0.014</td>\n",
       "</tr>\n",
       "<tr>\n",
       "  <th>Method:</th>             <td>Least Squares</td>  <th>  F-statistic:       </th> <td>   12.39</td>\n",
       "</tr>\n",
       "<tr>\n",
       "  <th>Date:</th>             <td>Thu, 07 Nov 2019</td> <th>  Prob (F-statistic):</th> <td>2.83e-31</td>\n",
       "</tr>\n",
       "<tr>\n",
       "  <th>Time:</th>                 <td>00:31:12</td>     <th>  Log-Likelihood:    </th> <td>  3866.0</td>\n",
       "</tr>\n",
       "<tr>\n",
       "  <th>No. Observations:</th>      <td> 12111</td>      <th>  AIC:               </th> <td>  -7700.</td>\n",
       "</tr>\n",
       "<tr>\n",
       "  <th>Df Residuals:</th>          <td> 12095</td>      <th>  BIC:               </th> <td>  -7582.</td>\n",
       "</tr>\n",
       "<tr>\n",
       "  <th>Df Model:</th>              <td>    15</td>      <th>                     </th>     <td> </td>   \n",
       "</tr>\n",
       "<tr>\n",
       "  <th>Covariance Type:</th>      <td>nonrobust</td>    <th>                     </th>     <td> </td>   \n",
       "</tr>\n",
       "</table>\n",
       "<table class=\"simpletable\">\n",
       "<tr>\n",
       "        <td></td>           <th>coef</th>     <th>std err</th>      <th>t</th>      <th>P>|t|</th>  <th>[0.025</th>    <th>0.975]</th>  \n",
       "</tr>\n",
       "<tr>\n",
       "  <th>const</th>         <td>    0.9305</td> <td>    0.183</td> <td>    5.071</td> <td> 0.000</td> <td>    0.571</td> <td>    1.290</td>\n",
       "</tr>\n",
       "<tr>\n",
       "  <th>Year</th>          <td>    0.0016</td> <td>    0.000</td> <td>    3.769</td> <td> 0.000</td> <td>    0.001</td> <td>    0.002</td>\n",
       "</tr>\n",
       "<tr>\n",
       "  <th>Female</th>        <td>   -0.9547</td> <td>    0.176</td> <td>   -5.411</td> <td> 0.000</td> <td>   -1.300</td> <td>   -0.609</td>\n",
       "</tr>\n",
       "<tr>\n",
       "  <th>Edu</th>           <td>    0.0058</td> <td>    0.004</td> <td>    1.411</td> <td> 0.158</td> <td>   -0.002</td> <td>    0.014</td>\n",
       "</tr>\n",
       "<tr>\n",
       "  <th>Skill</th>         <td>    0.0122</td> <td>    0.008</td> <td>    1.607</td> <td> 0.108</td> <td>   -0.003</td> <td>    0.027</td>\n",
       "</tr>\n",
       "<tr>\n",
       "  <th>Hand</th>          <td>   -0.0139</td> <td>    0.011</td> <td>   -1.276</td> <td> 0.202</td> <td>   -0.035</td> <td>    0.007</td>\n",
       "</tr>\n",
       "<tr>\n",
       "  <th>NumberofYear</th>  <td>   -0.0070</td> <td>    0.004</td> <td>   -1.973</td> <td> 0.049</td> <td>   -0.014</td> <td>-4.58e-05</td>\n",
       "</tr>\n",
       "<tr>\n",
       "  <th>Married</th>       <td>   -0.0210</td> <td>    0.009</td> <td>   -2.224</td> <td> 0.026</td> <td>   -0.039</td> <td>   -0.002</td>\n",
       "</tr>\n",
       "<tr>\n",
       "  <th>Chiled</th>        <td>    0.0289</td> <td>    0.007</td> <td>    4.361</td> <td> 0.000</td> <td>    0.016</td> <td>    0.042</td>\n",
       "</tr>\n",
       "<tr>\n",
       "  <th>Pregnancy</th>     <td>    0.0394</td> <td>    0.009</td> <td>    4.164</td> <td> 0.000</td> <td>    0.021</td> <td>    0.058</td>\n",
       "</tr>\n",
       "<tr>\n",
       "  <th>CommutingTime</th> <td>    0.0816</td> <td>    0.009</td> <td>    8.716</td> <td> 0.000</td> <td>    0.063</td> <td>    0.100</td>\n",
       "</tr>\n",
       "<tr>\n",
       "  <th>Payment</th>       <td>-4.185e-09</td> <td> 4.75e-09</td> <td>   -0.882</td> <td> 0.378</td> <td>-1.35e-08</td> <td> 5.12e-09</td>\n",
       "</tr>\n",
       "<tr>\n",
       "  <th>Height</th>        <td>   -0.0002</td> <td>    0.000</td> <td>   -1.091</td> <td> 0.275</td> <td>   -0.001</td> <td>    0.000</td>\n",
       "</tr>\n",
       "<tr>\n",
       "  <th>Weight</th>        <td>    0.0013</td> <td>    0.000</td> <td>    3.588</td> <td> 0.000</td> <td>    0.001</td> <td>    0.002</td>\n",
       "</tr>\n",
       "<tr>\n",
       "  <th>DutyHours</th>     <td> 3.375e-05</td> <td> 4.56e-05</td> <td>    0.740</td> <td> 0.459</td> <td>-5.57e-05</td> <td>    0.000</td>\n",
       "</tr>\n",
       "<tr>\n",
       "  <th>OverTimeWork</th>  <td>   -0.0148</td> <td>    0.004</td> <td>   -3.664</td> <td> 0.000</td> <td>   -0.023</td> <td>   -0.007</td>\n",
       "</tr>\n",
       "</table>\n",
       "<table class=\"simpletable\">\n",
       "<tr>\n",
       "  <th>Omnibus:</th>       <td>12006.286</td> <th>  Durbin-Watson:     </th>  <td>   1.377</td> \n",
       "</tr>\n",
       "<tr>\n",
       "  <th>Prob(Omnibus):</th>  <td> 0.000</td>   <th>  Jarque-Bera (JB):  </th> <td>379058.735</td>\n",
       "</tr>\n",
       "<tr>\n",
       "  <th>Skew:</th>           <td> 5.191</td>   <th>  Prob(JB):          </th>  <td>    0.00</td> \n",
       "</tr>\n",
       "<tr>\n",
       "  <th>Kurtosis:</th>       <td>28.365</td>   <th>  Cond. No.          </th>  <td>6.68e+08</td> \n",
       "</tr>\n",
       "</table><br/><br/>Warnings:<br/>[1] Standard Errors assume that the covariance matrix of the errors is correctly specified.<br/>[2] The condition number is large, 6.68e+08. This might indicate that there are<br/>strong multicollinearity or other numerical problems."
      ],
      "text/plain": [
       "<class 'statsmodels.iolib.summary.Summary'>\n",
       "\"\"\"\n",
       "                            OLS Regression Results                            \n",
       "==============================================================================\n",
       "Dep. Variable:                      y   R-squared:                       0.015\n",
       "Model:                            OLS   Adj. R-squared:                  0.014\n",
       "Method:                 Least Squares   F-statistic:                     12.39\n",
       "Date:                Thu, 07 Nov 2019   Prob (F-statistic):           2.83e-31\n",
       "Time:                        00:31:12   Log-Likelihood:                 3866.0\n",
       "No. Observations:               12111   AIC:                            -7700.\n",
       "Df Residuals:                   12095   BIC:                            -7582.\n",
       "Df Model:                          15                                         \n",
       "Covariance Type:            nonrobust                                         \n",
       "=================================================================================\n",
       "                    coef    std err          t      P>|t|      [0.025      0.975]\n",
       "---------------------------------------------------------------------------------\n",
       "const             0.9305      0.183      5.071      0.000       0.571       1.290\n",
       "Year              0.0016      0.000      3.769      0.000       0.001       0.002\n",
       "Female           -0.9547      0.176     -5.411      0.000      -1.300      -0.609\n",
       "Edu               0.0058      0.004      1.411      0.158      -0.002       0.014\n",
       "Skill             0.0122      0.008      1.607      0.108      -0.003       0.027\n",
       "Hand             -0.0139      0.011     -1.276      0.202      -0.035       0.007\n",
       "NumberofYear     -0.0070      0.004     -1.973      0.049      -0.014   -4.58e-05\n",
       "Married          -0.0210      0.009     -2.224      0.026      -0.039      -0.002\n",
       "Chiled            0.0289      0.007      4.361      0.000       0.016       0.042\n",
       "Pregnancy         0.0394      0.009      4.164      0.000       0.021       0.058\n",
       "CommutingTime     0.0816      0.009      8.716      0.000       0.063       0.100\n",
       "Payment       -4.185e-09   4.75e-09     -0.882      0.378   -1.35e-08    5.12e-09\n",
       "Height           -0.0002      0.000     -1.091      0.275      -0.001       0.000\n",
       "Weight            0.0013      0.000      3.588      0.000       0.001       0.002\n",
       "DutyHours      3.375e-05   4.56e-05      0.740      0.459   -5.57e-05       0.000\n",
       "OverTimeWork     -0.0148      0.004     -3.664      0.000      -0.023      -0.007\n",
       "==============================================================================\n",
       "Omnibus:                    12006.286   Durbin-Watson:                   1.377\n",
       "Prob(Omnibus):                  0.000   Jarque-Bera (JB):           379058.735\n",
       "Skew:                           5.191   Prob(JB):                         0.00\n",
       "Kurtosis:                      28.365   Cond. No.                     6.68e+08\n",
       "==============================================================================\n",
       "\n",
       "Warnings:\n",
       "[1] Standard Errors assume that the covariance matrix of the errors is correctly specified.\n",
       "[2] The condition number is large, 6.68e+08. This might indicate that there are\n",
       "strong multicollinearity or other numerical problems.\n",
       "\"\"\""
      ]
     },
     "execution_count": 10,
     "metadata": {},
     "output_type": "execute_result"
    }
   ],
   "source": [
    "import statsmodels.api as sm\n",
    "x = df[['Year', 'Female', 'Edu', 'Skill', 'Hand', 'NumberofYear',\n",
    "       'Married', 'Chiled', 'Pregnancy', 'CommutingTime', 'Payment', 'Height',\n",
    "       'Weight', 'DutyHours', 'OverTimeWork']]\n",
    "x2 = sm.add_constant(x)\n",
    "model = sm.OLS(datay,x2)\n",
    "result = model.fit()\n",
    "result.summary()"
   ]
  },
  {
   "cell_type": "code",
   "execution_count": 11,
   "metadata": {},
   "outputs": [
    {
     "name": "stdout",
     "output_type": "stream",
     "text": [
      "'Year','Female','NumberofYear','Married','Chiled','Pregnancy','CommutingTime','Weight','OverTimeWork',\n"
     ]
    }
   ],
   "source": [
    "index = 0\n",
    "columes = \"\"\n",
    "for pval in result.pvalues:\n",
    "    if(index == 0):\n",
    "        index = index + 1\n",
    "        continue\n",
    "    if(pval < 0.05):\n",
    "        columes = columes + \"'\"+ x.columns[index-1] + \"',\"\n",
    "    index = index + 1\n",
    "print(columes)"
   ]
  },
  {
   "cell_type": "code",
   "execution_count": 12,
   "metadata": {},
   "outputs": [
    {
     "data": {
      "text/html": [
       "<div>\n",
       "<style scoped>\n",
       "    .dataframe tbody tr th:only-of-type {\n",
       "        vertical-align: middle;\n",
       "    }\n",
       "\n",
       "    .dataframe tbody tr th {\n",
       "        vertical-align: top;\n",
       "    }\n",
       "\n",
       "    .dataframe thead th {\n",
       "        text-align: right;\n",
       "    }\n",
       "</style>\n",
       "<table border=\"1\" class=\"dataframe\">\n",
       "  <thead>\n",
       "    <tr style=\"text-align: right;\">\n",
       "      <th></th>\n",
       "      <th>Bad</th>\n",
       "      <th>Year</th>\n",
       "      <th>Female</th>\n",
       "      <th>NumberofYear</th>\n",
       "      <th>Married</th>\n",
       "      <th>Chiled</th>\n",
       "      <th>Pregnancy</th>\n",
       "      <th>CommutingTime</th>\n",
       "      <th>Weight</th>\n",
       "      <th>OverTimeWork</th>\n",
       "    </tr>\n",
       "  </thead>\n",
       "  <tbody>\n",
       "    <tr>\n",
       "      <th>113</th>\n",
       "      <td>1</td>\n",
       "      <td>28.0</td>\n",
       "      <td>1.0</td>\n",
       "      <td>3.0</td>\n",
       "      <td>1.0</td>\n",
       "      <td>1.0</td>\n",
       "      <td>0.0</td>\n",
       "      <td>0.0</td>\n",
       "      <td>48.0</td>\n",
       "      <td>0.0</td>\n",
       "    </tr>\n",
       "    <tr>\n",
       "      <th>114</th>\n",
       "      <td>1</td>\n",
       "      <td>22.0</td>\n",
       "      <td>1.0</td>\n",
       "      <td>4.0</td>\n",
       "      <td>0.0</td>\n",
       "      <td>0.0</td>\n",
       "      <td>0.0</td>\n",
       "      <td>0.0</td>\n",
       "      <td>43.0</td>\n",
       "      <td>0.0</td>\n",
       "    </tr>\n",
       "    <tr>\n",
       "      <th>115</th>\n",
       "      <td>0</td>\n",
       "      <td>34.0</td>\n",
       "      <td>1.0</td>\n",
       "      <td>5.0</td>\n",
       "      <td>1.0</td>\n",
       "      <td>1.0</td>\n",
       "      <td>0.0</td>\n",
       "      <td>0.0</td>\n",
       "      <td>58.0</td>\n",
       "      <td>0.0</td>\n",
       "    </tr>\n",
       "    <tr>\n",
       "      <th>116</th>\n",
       "      <td>0</td>\n",
       "      <td>22.0</td>\n",
       "      <td>1.0</td>\n",
       "      <td>4.0</td>\n",
       "      <td>0.0</td>\n",
       "      <td>0.0</td>\n",
       "      <td>0.0</td>\n",
       "      <td>0.0</td>\n",
       "      <td>43.0</td>\n",
       "      <td>0.0</td>\n",
       "    </tr>\n",
       "    <tr>\n",
       "      <th>117</th>\n",
       "      <td>0</td>\n",
       "      <td>22.0</td>\n",
       "      <td>1.0</td>\n",
       "      <td>4.0</td>\n",
       "      <td>1.0</td>\n",
       "      <td>0.0</td>\n",
       "      <td>0.0</td>\n",
       "      <td>0.0</td>\n",
       "      <td>43.0</td>\n",
       "      <td>0.0</td>\n",
       "    </tr>\n",
       "  </tbody>\n",
       "</table>\n",
       "</div>"
      ],
      "text/plain": [
       "     Bad  Year  Female  NumberofYear  Married  Chiled  Pregnancy  \\\n",
       "113    1  28.0     1.0           3.0      1.0     1.0        0.0   \n",
       "114    1  22.0     1.0           4.0      0.0     0.0        0.0   \n",
       "115    0  34.0     1.0           5.0      1.0     1.0        0.0   \n",
       "116    0  22.0     1.0           4.0      0.0     0.0        0.0   \n",
       "117    0  22.0     1.0           4.0      1.0     0.0        0.0   \n",
       "\n",
       "     CommutingTime  Weight  OverTimeWork  \n",
       "113            0.0    48.0           0.0  \n",
       "114            0.0    43.0           0.0  \n",
       "115            0.0    58.0           0.0  \n",
       "116            0.0    43.0           0.0  \n",
       "117            0.0    43.0           0.0  "
      ]
     },
     "execution_count": 12,
     "metadata": {},
     "output_type": "execute_result"
    }
   ],
   "source": [
    "da = df[['Bad','Year','Female','NumberofYear','Married','Chiled','Pregnancy','CommutingTime','Weight','OverTimeWork']]\n",
    "da.head()"
   ]
  },
  {
   "cell_type": "code",
   "execution_count": 13,
   "metadata": {},
   "outputs": [],
   "source": [
    "data = np.array(da)\n",
    "nvar = data.shape[1]\n",
    "datax = data[:,1:nvar]\n",
    "datay = data[:,0]"
   ]
  },
  {
   "cell_type": "code",
   "execution_count": 14,
   "metadata": {},
   "outputs": [],
   "source": [
    "from sklearn.model_selection import train_test_split\n",
    "train_x, test_x, train_y, test_y = train_test_split(datax, datay, test_size=0.3, random_state=500)"
   ]
  },
  {
   "cell_type": "code",
   "execution_count": 15,
   "metadata": {},
   "outputs": [],
   "source": [
    "from sklearn.preprocessing import MinMaxScaler\n",
    "scaler = MinMaxScaler()\n",
    "scaler.fit(train_x)\n",
    "train_x = scaler.transform(train_x)\n",
    "test_x = scaler.transform(test_x)"
   ]
  },
  {
   "cell_type": "code",
   "execution_count": 16,
   "metadata": {},
   "outputs": [],
   "source": [
    "from sklearn.naive_bayes import GaussianNB\n",
    "bayes = GaussianNB(priors=[0.58, 0.42])\n",
    "bayes.fit(train_x,train_y)\n",
    "predict = bayes.predict(test_x)"
   ]
  },
  {
   "cell_type": "code",
   "execution_count": 17,
   "metadata": {},
   "outputs": [
    {
     "name": "stdout",
     "output_type": "stream",
     "text": [
      "0.44358833241607043\n"
     ]
    }
   ],
   "source": [
    "dif = test_y - predict\n",
    "accuracy2 = 1 - (np.size(np.where(dif != 0))/np.size(test_y))\n",
    "print(accuracy2)"
   ]
  },
  {
   "cell_type": "markdown",
   "metadata": {},
   "source": [
    "## RandomForest로 분석한 결과만 활용한 경우"
   ]
  },
  {
   "cell_type": "code",
   "execution_count": 18,
   "metadata": {},
   "outputs": [],
   "source": [
    "data = np.array(df)\n",
    "nvar = data.shape[1]\n",
    "datax = data[:,1:nvar]\n",
    "datay = data[:,0]"
   ]
  },
  {
   "cell_type": "code",
   "execution_count": 19,
   "metadata": {},
   "outputs": [],
   "source": [
    "from sklearn.model_selection import train_test_split\n",
    "train_x, test_x, train_y, test_y = train_test_split(datax, datay, test_size=0.3, random_state=500)"
   ]
  },
  {
   "cell_type": "code",
   "execution_count": 20,
   "metadata": {},
   "outputs": [],
   "source": [
    "from sklearn.preprocessing import MinMaxScaler\n",
    "scaler = MinMaxScaler()\n",
    "scaler.fit(train_x)\n",
    "train_x = scaler.transform(train_x)\n",
    "test_x = scaler.transform(test_x)"
   ]
  },
  {
   "cell_type": "code",
   "execution_count": 21,
   "metadata": {},
   "outputs": [
    {
     "data": {
      "text/plain": [
       "RandomForestClassifier(bootstrap=True, class_weight=None, criterion='gini',\n",
       "                       max_depth=None, max_features='auto', max_leaf_nodes=None,\n",
       "                       min_impurity_decrease=0.0, min_impurity_split=None,\n",
       "                       min_samples_leaf=1, min_samples_split=2,\n",
       "                       min_weight_fraction_leaf=0.0, n_estimators=50,\n",
       "                       n_jobs=None, oob_score=False, random_state=None,\n",
       "                       verbose=0, warm_start=False)"
      ]
     },
     "execution_count": 21,
     "metadata": {},
     "output_type": "execute_result"
    }
   ],
   "source": [
    "from sklearn.ensemble import RandomForestClassifier\n",
    "rf = RandomForestClassifier(n_estimators= 50)\n",
    "rf.fit(train_x, train_y)"
   ]
  },
  {
   "cell_type": "code",
   "execution_count": 22,
   "metadata": {},
   "outputs": [
    {
     "data": {
      "text/plain": [
       "Index(['Bad', 'Year', 'Female', 'Edu', 'Skill', 'Hand', 'NumberofYear',\n",
       "       'Married', 'Chiled', 'Pregnancy', 'CommutingTime', 'Payment', 'Height',\n",
       "       'Weight', 'DutyHours', 'OverTimeWork'],\n",
       "      dtype='object')"
      ]
     },
     "execution_count": 22,
     "metadata": {},
     "output_type": "execute_result"
    }
   ],
   "source": [
    "df.columns"
   ]
  },
  {
   "cell_type": "code",
   "execution_count": 23,
   "metadata": {},
   "outputs": [],
   "source": [
    "Importance = np.round(rf.feature_importances_,2)\n",
    "TrainColume = ('Year', 'Female', 'Edu', 'Skill', 'Hand', 'NumberofYear',\n",
    "       'Married', 'Chiled', 'Pregnancy', 'CommutingTime', 'Payment', 'Height',\n",
    "       'Weight', 'DutyHours', 'OverTimeWork')\n",
    "df_data ={'Imt' : Importance, 'Colume' : TrainColume}\n",
    "df_data = pd.DataFrame(df_data)"
   ]
  },
  {
   "cell_type": "code",
   "execution_count": 24,
   "metadata": {},
   "outputs": [
    {
     "data": {
      "image/png": "[encoded data removed]",
      "text/plain": [
       "<Figure size 432x288 with 1 Axes>"
      ]
     },
     "metadata": {
      "needs_background": "light"
     },
     "output_type": "display_data"
    }
   ],
   "source": [
    "import seaborn as sns\n",
    "ax = sns.barplot(x=df_data['Imt'], y=df_data['Colume'])\n",
    "ax.set(xlabel='Importance', ylabel='Variable')\n",
    "plt.title('importance by variable')\n",
    "plt.show()"
   ]
  },
  {
   "cell_type": "code",
   "execution_count": 25,
   "metadata": {},
   "outputs": [],
   "source": [
    "del df['Female']\n",
    "del df['Married']"
   ]
  },
  {
   "cell_type": "code",
   "execution_count": 26,
   "metadata": {},
   "outputs": [],
   "source": [
    "data = np.array(df)\n",
    "nvar = data.shape[1]\n",
    "datax = data[:,1:nvar]\n",
    "datay = data[:,0]"
   ]
  },
  {
   "cell_type": "code",
   "execution_count": 27,
   "metadata": {},
   "outputs": [],
   "source": [
    "from sklearn.model_selection import train_test_split\n",
    "train_x, test_x, train_y, test_y = train_test_split(datax, datay, test_size=0.3, random_state=500)"
   ]
  },
  {
   "cell_type": "code",
   "execution_count": 28,
   "metadata": {},
   "outputs": [],
   "source": [
    "from sklearn.preprocessing import MinMaxScaler\n",
    "scaler = MinMaxScaler()\n",
    "scaler.fit(train_x)\n",
    "train_x = scaler.transform(train_x)\n",
    "test_x = scaler.transform(test_x)"
   ]
  },
  {
   "cell_type": "code",
   "execution_count": 29,
   "metadata": {},
   "outputs": [],
   "source": [
    "from sklearn.naive_bayes import GaussianNB\n",
    "bayes = GaussianNB(priors=[0.58, 0.42])\n",
    "bayes.fit(train_x,train_y)\n",
    "predict = bayes.predict(test_x)"
   ]
  },
  {
   "cell_type": "code",
   "execution_count": 30,
   "metadata": {},
   "outputs": [
    {
     "name": "stdout",
     "output_type": "stream",
     "text": [
      "0.4716565767749037\n"
     ]
    }
   ],
   "source": [
    "dif = test_y - predict\n",
    "accuracy3 = 1 - (np.size(np.where(dif != 0))/np.size(test_y))\n",
    "print(accuracy3)"
   ]
  },
  {
   "cell_type": "markdown",
   "metadata": {},
   "source": [
    "## 두가지 방법으로 분석한 결과를 모두 활용한 경우"
   ]
  },
  {
   "cell_type": "code",
   "execution_count": 31,
   "metadata": {},
   "outputs": [
    {
     "data": {
      "text/plain": [
       "Index(['Bad', 'Year', 'Edu', 'Skill', 'Hand', 'NumberofYear', 'Chiled',\n",
       "       'Pregnancy', 'CommutingTime', 'Payment', 'Height', 'Weight',\n",
       "       'DutyHours', 'OverTimeWork'],\n",
       "      dtype='object')"
      ]
     },
     "execution_count": 31,
     "metadata": {},
     "output_type": "execute_result"
    }
   ],
   "source": [
    "df.columns"
   ]
  },
  {
   "cell_type": "code",
   "execution_count": 32,
   "metadata": {},
   "outputs": [
    {
     "name": "stderr",
     "output_type": "stream",
     "text": [
      "C:\\Users\\KimJinSeop\\Anaconda3\\lib\\site-packages\\numpy\\core\\fromnumeric.py:2389: FutureWarning: Method .ptp is deprecated and will be removed in a future version. Use numpy.ptp instead.\n",
      "  return ptp(axis=axis, out=out, **kwargs)\n"
     ]
    },
    {
     "data": {
      "text/html": [
       "<table class=\"simpletable\">\n",
       "<caption>OLS Regression Results</caption>\n",
       "<tr>\n",
       "  <th>Dep. Variable:</th>            <td>y</td>        <th>  R-squared:         </th> <td>   0.012</td>\n",
       "</tr>\n",
       "<tr>\n",
       "  <th>Model:</th>                   <td>OLS</td>       <th>  Adj. R-squared:    </th> <td>   0.011</td>\n",
       "</tr>\n",
       "<tr>\n",
       "  <th>Method:</th>             <td>Least Squares</td>  <th>  F-statistic:       </th> <td>   11.55</td>\n",
       "</tr>\n",
       "<tr>\n",
       "  <th>Date:</th>             <td>Thu, 07 Nov 2019</td> <th>  Prob (F-statistic):</th> <td>2.80e-25</td>\n",
       "</tr>\n",
       "<tr>\n",
       "  <th>Time:</th>                 <td>00:31:13</td>     <th>  Log-Likelihood:    </th> <td>  3848.3</td>\n",
       "</tr>\n",
       "<tr>\n",
       "  <th>No. Observations:</th>      <td> 12111</td>      <th>  AIC:               </th> <td>  -7669.</td>\n",
       "</tr>\n",
       "<tr>\n",
       "  <th>Df Residuals:</th>          <td> 12097</td>      <th>  BIC:               </th> <td>  -7565.</td>\n",
       "</tr>\n",
       "<tr>\n",
       "  <th>Df Model:</th>              <td>    13</td>      <th>                     </th>     <td> </td>   \n",
       "</tr>\n",
       "<tr>\n",
       "  <th>Covariance Type:</th>      <td>nonrobust</td>    <th>                     </th>     <td> </td>   \n",
       "</tr>\n",
       "</table>\n",
       "<table class=\"simpletable\">\n",
       "<tr>\n",
       "        <td></td>           <th>coef</th>     <th>std err</th>      <th>t</th>      <th>P>|t|</th>  <th>[0.025</th>    <th>0.975]</th>  \n",
       "</tr>\n",
       "<tr>\n",
       "  <th>const</th>         <td>   -0.0312</td> <td>    0.046</td> <td>   -0.683</td> <td> 0.495</td> <td>   -0.121</td> <td>    0.058</td>\n",
       "</tr>\n",
       "<tr>\n",
       "  <th>Year</th>          <td>    0.0015</td> <td>    0.000</td> <td>    3.544</td> <td> 0.000</td> <td>    0.001</td> <td>    0.002</td>\n",
       "</tr>\n",
       "<tr>\n",
       "  <th>Edu</th>           <td>    0.0057</td> <td>    0.004</td> <td>    1.405</td> <td> 0.160</td> <td>   -0.002</td> <td>    0.014</td>\n",
       "</tr>\n",
       "<tr>\n",
       "  <th>Skill</th>         <td>    0.0119</td> <td>    0.008</td> <td>    1.572</td> <td> 0.116</td> <td>   -0.003</td> <td>    0.027</td>\n",
       "</tr>\n",
       "<tr>\n",
       "  <th>Hand</th>          <td>   -0.0114</td> <td>    0.011</td> <td>   -1.049</td> <td> 0.294</td> <td>   -0.033</td> <td>    0.010</td>\n",
       "</tr>\n",
       "<tr>\n",
       "  <th>NumberofYear</th>  <td>   -0.0071</td> <td>    0.004</td> <td>   -2.033</td> <td> 0.042</td> <td>   -0.014</td> <td>   -0.000</td>\n",
       "</tr>\n",
       "<tr>\n",
       "  <th>Chiled</th>        <td>    0.0199</td> <td>    0.005</td> <td>    3.679</td> <td> 0.000</td> <td>    0.009</td> <td>    0.031</td>\n",
       "</tr>\n",
       "<tr>\n",
       "  <th>Pregnancy</th>     <td>    0.0340</td> <td>    0.009</td> <td>    3.706</td> <td> 0.000</td> <td>    0.016</td> <td>    0.052</td>\n",
       "</tr>\n",
       "<tr>\n",
       "  <th>CommutingTime</th> <td>    0.0790</td> <td>    0.009</td> <td>    8.487</td> <td> 0.000</td> <td>    0.061</td> <td>    0.097</td>\n",
       "</tr>\n",
       "<tr>\n",
       "  <th>Payment</th>       <td>-3.491e-09</td> <td> 4.75e-09</td> <td>   -0.735</td> <td> 0.462</td> <td>-1.28e-08</td> <td> 5.82e-09</td>\n",
       "</tr>\n",
       "<tr>\n",
       "  <th>Height</th>        <td>   -0.0002</td> <td>    0.000</td> <td>   -1.074</td> <td> 0.283</td> <td>   -0.001</td> <td>    0.000</td>\n",
       "</tr>\n",
       "<tr>\n",
       "  <th>Weight</th>        <td>    0.0011</td> <td>    0.000</td> <td>    3.302</td> <td> 0.001</td> <td>    0.000</td> <td>    0.002</td>\n",
       "</tr>\n",
       "<tr>\n",
       "  <th>DutyHours</th>     <td> 4.032e-05</td> <td> 4.56e-05</td> <td>    0.883</td> <td> 0.377</td> <td>-4.91e-05</td> <td>    0.000</td>\n",
       "</tr>\n",
       "<tr>\n",
       "  <th>OverTimeWork</th>  <td>   -0.0146</td> <td>    0.004</td> <td>   -3.615</td> <td> 0.000</td> <td>   -0.023</td> <td>   -0.007</td>\n",
       "</tr>\n",
       "</table>\n",
       "<table class=\"simpletable\">\n",
       "<tr>\n",
       "  <th>Omnibus:</th>       <td>11997.055</td> <th>  Durbin-Watson:     </th>  <td>   1.380</td> \n",
       "</tr>\n",
       "<tr>\n",
       "  <th>Prob(Omnibus):</th>  <td> 0.000</td>   <th>  Jarque-Bera (JB):  </th> <td>377299.876</td>\n",
       "</tr>\n",
       "<tr>\n",
       "  <th>Skew:</th>           <td> 5.186</td>   <th>  Prob(JB):          </th>  <td>    0.00</td> \n",
       "</tr>\n",
       "<tr>\n",
       "  <th>Kurtosis:</th>       <td>28.300</td>   <th>  Cond. No.          </th>  <td>1.21e+08</td> \n",
       "</tr>\n",
       "</table><br/><br/>Warnings:<br/>[1] Standard Errors assume that the covariance matrix of the errors is correctly specified.<br/>[2] The condition number is large, 1.21e+08. This might indicate that there are<br/>strong multicollinearity or other numerical problems."
      ],
      "text/plain": [
       "<class 'statsmodels.iolib.summary.Summary'>\n",
       "\"\"\"\n",
       "                            OLS Regression Results                            \n",
       "==============================================================================\n",
       "Dep. Variable:                      y   R-squared:                       0.012\n",
       "Model:                            OLS   Adj. R-squared:                  0.011\n",
       "Method:                 Least Squares   F-statistic:                     11.55\n",
       "Date:                Thu, 07 Nov 2019   Prob (F-statistic):           2.80e-25\n",
       "Time:                        00:31:13   Log-Likelihood:                 3848.3\n",
       "No. Observations:               12111   AIC:                            -7669.\n",
       "Df Residuals:                   12097   BIC:                            -7565.\n",
       "Df Model:                          13                                         \n",
       "Covariance Type:            nonrobust                                         \n",
       "=================================================================================\n",
       "                    coef    std err          t      P>|t|      [0.025      0.975]\n",
       "---------------------------------------------------------------------------------\n",
       "const            -0.0312      0.046     -0.683      0.495      -0.121       0.058\n",
       "Year              0.0015      0.000      3.544      0.000       0.001       0.002\n",
       "Edu               0.0057      0.004      1.405      0.160      -0.002       0.014\n",
       "Skill             0.0119      0.008      1.572      0.116      -0.003       0.027\n",
       "Hand             -0.0114      0.011     -1.049      0.294      -0.033       0.010\n",
       "NumberofYear     -0.0071      0.004     -2.033      0.042      -0.014      -0.000\n",
       "Chiled            0.0199      0.005      3.679      0.000       0.009       0.031\n",
       "Pregnancy         0.0340      0.009      3.706      0.000       0.016       0.052\n",
       "CommutingTime     0.0790      0.009      8.487      0.000       0.061       0.097\n",
       "Payment       -3.491e-09   4.75e-09     -0.735      0.462   -1.28e-08    5.82e-09\n",
       "Height           -0.0002      0.000     -1.074      0.283      -0.001       0.000\n",
       "Weight            0.0011      0.000      3.302      0.001       0.000       0.002\n",
       "DutyHours      4.032e-05   4.56e-05      0.883      0.377   -4.91e-05       0.000\n",
       "OverTimeWork     -0.0146      0.004     -3.615      0.000      -0.023      -0.007\n",
       "==============================================================================\n",
       "Omnibus:                    11997.055   Durbin-Watson:                   1.380\n",
       "Prob(Omnibus):                  0.000   Jarque-Bera (JB):           377299.876\n",
       "Skew:                           5.186   Prob(JB):                         0.00\n",
       "Kurtosis:                      28.300   Cond. No.                     1.21e+08\n",
       "==============================================================================\n",
       "\n",
       "Warnings:\n",
       "[1] Standard Errors assume that the covariance matrix of the errors is correctly specified.\n",
       "[2] The condition number is large, 1.21e+08. This might indicate that there are\n",
       "strong multicollinearity or other numerical problems.\n",
       "\"\"\""
      ]
     },
     "execution_count": 32,
     "metadata": {},
     "output_type": "execute_result"
    }
   ],
   "source": [
    "import statsmodels.api as sm\n",
    "x = df[['Year', 'Edu', 'Skill', 'Hand', 'NumberofYear', 'Chiled',\n",
    "       'Pregnancy', 'CommutingTime', 'Payment', 'Height', 'Weight',\n",
    "       'DutyHours', 'OverTimeWork']]\n",
    "x2 = sm.add_constant(x)\n",
    "model = sm.OLS(datay,x2)\n",
    "result = model.fit()\n",
    "result.summary()"
   ]
  },
  {
   "cell_type": "code",
   "execution_count": 33,
   "metadata": {},
   "outputs": [
    {
     "name": "stdout",
     "output_type": "stream",
     "text": [
      "'Year','NumberofYear','Chiled','Pregnancy','CommutingTime','Weight','OverTimeWork',\n"
     ]
    }
   ],
   "source": [
    "index = 0\n",
    "columes = \"\"\n",
    "for pval in result.pvalues:\n",
    "    if(index == 0):\n",
    "        index = index + 1\n",
    "        continue\n",
    "    if(pval < 0.05):\n",
    "        columes = columes + \"'\"+ x.columns[index-1] + \"',\"\n",
    "    index = index + 1\n",
    "print(columes)"
   ]
  },
  {
   "cell_type": "code",
   "execution_count": 34,
   "metadata": {},
   "outputs": [
    {
     "data": {
      "text/html": [
       "<div>\n",
       "<style scoped>\n",
       "    .dataframe tbody tr th:only-of-type {\n",
       "        vertical-align: middle;\n",
       "    }\n",
       "\n",
       "    .dataframe tbody tr th {\n",
       "        vertical-align: top;\n",
       "    }\n",
       "\n",
       "    .dataframe thead th {\n",
       "        text-align: right;\n",
       "    }\n",
       "</style>\n",
       "<table border=\"1\" class=\"dataframe\">\n",
       "  <thead>\n",
       "    <tr style=\"text-align: right;\">\n",
       "      <th></th>\n",
       "      <th>Bad</th>\n",
       "      <th>Year</th>\n",
       "      <th>NumberofYear</th>\n",
       "      <th>Chiled</th>\n",
       "      <th>Pregnancy</th>\n",
       "      <th>CommutingTime</th>\n",
       "      <th>Weight</th>\n",
       "      <th>OverTimeWork</th>\n",
       "    </tr>\n",
       "  </thead>\n",
       "  <tbody>\n",
       "    <tr>\n",
       "      <th>113</th>\n",
       "      <td>1</td>\n",
       "      <td>28.0</td>\n",
       "      <td>3.0</td>\n",
       "      <td>1.0</td>\n",
       "      <td>0.0</td>\n",
       "      <td>0.0</td>\n",
       "      <td>48.0</td>\n",
       "      <td>0.0</td>\n",
       "    </tr>\n",
       "    <tr>\n",
       "      <th>114</th>\n",
       "      <td>1</td>\n",
       "      <td>22.0</td>\n",
       "      <td>4.0</td>\n",
       "      <td>0.0</td>\n",
       "      <td>0.0</td>\n",
       "      <td>0.0</td>\n",
       "      <td>43.0</td>\n",
       "      <td>0.0</td>\n",
       "    </tr>\n",
       "    <tr>\n",
       "      <th>115</th>\n",
       "      <td>0</td>\n",
       "      <td>34.0</td>\n",
       "      <td>5.0</td>\n",
       "      <td>1.0</td>\n",
       "      <td>0.0</td>\n",
       "      <td>0.0</td>\n",
       "      <td>58.0</td>\n",
       "      <td>0.0</td>\n",
       "    </tr>\n",
       "    <tr>\n",
       "      <th>116</th>\n",
       "      <td>0</td>\n",
       "      <td>22.0</td>\n",
       "      <td>4.0</td>\n",
       "      <td>0.0</td>\n",
       "      <td>0.0</td>\n",
       "      <td>0.0</td>\n",
       "      <td>43.0</td>\n",
       "      <td>0.0</td>\n",
       "    </tr>\n",
       "    <tr>\n",
       "      <th>117</th>\n",
       "      <td>0</td>\n",
       "      <td>22.0</td>\n",
       "      <td>4.0</td>\n",
       "      <td>0.0</td>\n",
       "      <td>0.0</td>\n",
       "      <td>0.0</td>\n",
       "      <td>43.0</td>\n",
       "      <td>0.0</td>\n",
       "    </tr>\n",
       "  </tbody>\n",
       "</table>\n",
       "</div>"
      ],
      "text/plain": [
       "     Bad  Year  NumberofYear  Chiled  Pregnancy  CommutingTime  Weight  \\\n",
       "113    1  28.0           3.0     1.0        0.0            0.0    48.0   \n",
       "114    1  22.0           4.0     0.0        0.0            0.0    43.0   \n",
       "115    0  34.0           5.0     1.0        0.0            0.0    58.0   \n",
       "116    0  22.0           4.0     0.0        0.0            0.0    43.0   \n",
       "117    0  22.0           4.0     0.0        0.0            0.0    43.0   \n",
       "\n",
       "     OverTimeWork  \n",
       "113           0.0  \n",
       "114           0.0  \n",
       "115           0.0  \n",
       "116           0.0  \n",
       "117           0.0  "
      ]
     },
     "execution_count": 34,
     "metadata": {},
     "output_type": "execute_result"
    }
   ],
   "source": [
    "df = df[['Bad','Year','NumberofYear','Chiled','Pregnancy','CommutingTime','Weight','OverTimeWork']]\n",
    "df.head()"
   ]
  },
  {
   "cell_type": "code",
   "execution_count": 35,
   "metadata": {},
   "outputs": [],
   "source": [
    "data = np.array(df)\n",
    "nvar = data.shape[1]\n",
    "datax = data[:,1:nvar]\n",
    "datay = data[:,0]"
   ]
  },
  {
   "cell_type": "code",
   "execution_count": 36,
   "metadata": {},
   "outputs": [],
   "source": [
    "from sklearn.model_selection import train_test_split\n",
    "train_x, test_x, train_y, test_y = train_test_split(datax, datay, test_size=0.3, random_state=500)"
   ]
  },
  {
   "cell_type": "code",
   "execution_count": 37,
   "metadata": {},
   "outputs": [],
   "source": [
    "from sklearn.preprocessing import MinMaxScaler\n",
    "scaler = MinMaxScaler()\n",
    "scaler.fit(train_x)\n",
    "train_x = scaler.transform(train_x)\n",
    "test_x = scaler.transform(test_x)"
   ]
  },
  {
   "cell_type": "code",
   "execution_count": 38,
   "metadata": {},
   "outputs": [],
   "source": [
    "from sklearn.naive_bayes import GaussianNB\n",
    "bayes = GaussianNB(priors=[0.58, 0.42])\n",
    "bayes.fit(train_x,train_y)\n",
    "predict = bayes.predict(test_x)"
   ]
  },
  {
   "cell_type": "code",
   "execution_count": 39,
   "metadata": {},
   "outputs": [
    {
     "name": "stdout",
     "output_type": "stream",
     "text": [
      "0.8951568519537699\n"
     ]
    }
   ],
   "source": [
    "dif = test_y - predict\n",
    "accuracy4 = 1 - (np.size(np.where(dif != 0))/np.size(test_y))\n",
    "print(accuracy4)"
   ]
  },
  {
   "cell_type": "markdown",
   "metadata": {},
   "source": [
    "## 성능 결과 그래프"
   ]
  },
  {
   "cell_type": "code",
   "execution_count": 40,
   "metadata": {},
   "outputs": [
    {
     "data": {
      "image/png": "[encoded data removed]",
      "text/plain": [
       "<Figure size 432x288 with 1 Axes>"
      ]
     },
     "metadata": {
      "needs_background": "light"
     },
     "output_type": "display_data"
    }
   ],
   "source": [
    "import seaborn as sns\n",
    "list_ac = [accuracy1,accuracy2,accuracy3,accuracy4]\n",
    "list_us = ['neither','using only p-value','using only randomforest','using both']\n",
    "df_data = {'acc' : list_ac, 'use' : list_us}\n",
    "df_data = pd.DataFrame(df_data)\n",
    "ax = sns.barplot(x=df_data['acc'], y=df_data['use'])\n",
    "ax.set(xlabel='Accuracy', ylabel='Usage')\n",
    "plt.title('Accuracy measurement result according to the usage')\n",
    "plt.show()"
   ]
  }
 ],
 "metadata": {
  "kernelspec": {
   "display_name": "Python 3",
   "language": "python",
   "name": "python3"
  },
  "language_info": {
   "codemirror_mode": {
    "name": "ipython",
    "version": 3
   },
   "file_extension": ".py",
   "mimetype": "text/x-python",
   "name": "python",
   "nbconvert_exporter": "python",
   "pygments_lexer": "ipython3",
   "version": "3.7.3"
  }
 },
 "nbformat": 4,
 "nbformat_minor": 2
}
